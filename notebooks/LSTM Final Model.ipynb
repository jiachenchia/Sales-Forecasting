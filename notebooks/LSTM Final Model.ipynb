{
 "cells": [
  {
   "cell_type": "code",
   "execution_count": null,
   "id": "ec1b25d7",
   "metadata": {},
   "outputs": [],
   "source": [
    "All variables in input + MLP (for context)"
   ]
  },
  {
   "cell_type": "code",
   "execution_count": null,
   "id": "b7d658f4",
   "metadata": {},
   "outputs": [],
   "source": [
    "# ───────────────────────────────────────────────────────────────────────────────\n",
    "# 1. Loading libraries and datasets, and set up data\n",
    "# ───────────────────────────────────────────────────────────────────────────────\n",
    "import pandas as pd\n",
    "import numpy as np\n",
    "import matplotlib.pyplot as plt\n",
    "import random\n",
    "from sklearn.metrics import mean_squared_error, mean_absolute_error\n",
    "from sklearn.preprocessing import LabelEncoder, MinMaxScaler\n",
    "import tensorflow as tf\n",
    "from tensorflow.keras.callbacks import EarlyStopping, ReduceLROnPlateau\n",
    "from tensorflow.keras.layers import (Input, LSTM, Embedding, Flatten, Dense, Concatenate, SpatialDropout1D, BatchNormalization, Dropout, Add, RepeatVector)\n",
    "from tensorflow.keras.models import Model\n",
    "from keras_tuner import HyperModel\n",
    "from keras_tuner.tuners import RandomSearch\n",
    "\n",
    "# Cluster, PH, Weather, Sales data\n",
    "df = pd.read_csv(r\" ... csv\")\n",
    "\n",
    "# Feature columns\n",
    "time_varying_categorical_cols = ['Rain?','Name','Puasa','Public Holiday','Day','Month']  # varies with time\n",
    "static_categorical_cols = ['Store_No','State','CODE (subcluster 1)','CODE FY26 1 (subcluster 2)','CODE FY26 2 (subcluster 3)']  # won't change depending on time\n",
    "categorical_cols = time_varying_categorical_cols + static_categorical_cols\n",
    "numeric_cols = ['Net_Amount','TC','Days_after_Opening','Average Daily Temperature (°C)']\n",
    "\n",
    "# Filling in spaces to be encoded: 'CODE (subcluster 1)': blank, Name: no PH, Puasa: 0, Public Holiday: 0\n",
    "# Filling empty spaces\n",
    "df['CODE (subcluster 1)'] = df['CODE (subcluster 1)'].fillna('blank')\n",
    "df['Name']               = df['Name'].fillna('no PH')\n",
    "df['Puasa']              = df['Puasa'].fillna(0)\n",
    "df['Public Holiday']     = df['Public Holiday'].fillna(0)\n",
    "\n",
    "# Replace any empty‐string entries (''), if they exist\n",
    "df['CODE (subcluster 1)'] = df['CODE (subcluster 1)'].replace('', 'blank')\n",
    "df['Name']               = df['Name'].replace('', 'no PH')\n",
    "df['Puasa']              = df['Puasa'].replace('', 0)\n",
    "df['Public Holiday']     = df['Public Holiday'].replace('', 0)\n",
    "\n",
    "# ───────────────────────────────────────────────────────────────────────────────\n",
    "# 2. Encoding categorical columns\n",
    "# ───────────────────────────────────────────────────────────────────────────────\n",
    "# Splitting categorical columns into 2 types - to be embedded or be binary\n",
    "embed_cols = []\n",
    "\n",
    "for col in categorical_cols:\n",
    "    n_uniques = df[col].nunique()\n",
    "    if col in static_categorical_cols:\n",
    "        embed_cols.append(col)\n",
    "    elif n_uniques < 3:\n",
    "        pass\n",
    "    elif n_uniques >= 7:\n",
    "        embed_cols.append(col)\n",
    "    else:\n",
    "        print(f\"Column {col} has {n_uniques} categories: choose manually.\")\n",
    "\n",
    "# Encoding embed columns\n",
    "encoders = {}\n",
    "for col in embed_cols:\n",
    "    le = LabelEncoder()\n",
    "    df[col + '_enc'] = le.fit_transform(df[col])\n",
    "    encoders[col] = le\n",
    "\n",
    "# Binary columns - Puasa and Public Holiday are already in 0s and 1s\n",
    "df['Rain?'] = df['Rain?'].map({'Yes': 1, ' No': 0})\n",
    "\n",
    "# ───────────────────────────────────────────────────────────────────────────────\n",
    "# 3. Scaling continuous features\n",
    "# ───────────────────────────────────────────────────────────────────────────────\n",
    "scaler = MinMaxScaler()\n",
    "df[numeric_cols] = scaler.fit_transform(df[numeric_cols])\n",
    "\n",
    "# ───────────────────────────────────────────────────────────────────────────────\n",
    "# 4. Building sequences for LSTM\n",
    "# ───────────────────────────────────────────────────────────────────────────────\n",
    "# purely numeric or binary (already scaled / mapped 0/1)\n",
    "time_numeric_cols = [\n",
    "    'Net_Amount',\n",
    "    'TC',\n",
    "    'Days_after_Opening',\n",
    "    'Average Daily Temperature (°C)',\n",
    "    'Rain?',          # make sure this is 0/1\n",
    "    'Puasa',          # 0/1\n",
    "    'Public Holiday'  # 0/1\n",
    "]\n",
    "\n",
    "# select window size 7-30 days\n",
    "window = 14\n",
    "\n",
    "X_num, X_name, X_day, X_month, X_stat, y = [], [], [], [], [], []\n",
    "\n",
    "static_cols = [col + '_enc' for col in static_categorical_cols if col in embed_cols]\n",
    "\n",
    "for store_id, grp in df.groupby('Store_No'):\n",
    "    grp = grp.sort_values('Date')\n",
    "    T   = len(grp)\n",
    "    if T <= window: \n",
    "        continue\n",
    "\n",
    "    # raw arrays\n",
    "    arr_num    = grp[time_numeric_cols].values        # (T, n_num_feats)\n",
    "    arr_name   = grp['Name_enc'].values               # (T,)\n",
    "    arr_day    = grp['Day_enc'].values                # (T,)\n",
    "    arr_month  = grp['Month_enc'].values              # (T,)\n",
    "    arr_static = grp[static_cols].iloc[window:].values# (T-window, n_static_feats)\n",
    "    arr_target = grp[['Net_Amount','TC']].values[window:]    # (T-window,)\n",
    "\n",
    "    for i in range(T - window):\n",
    "        X_num.append(   arr_num[i : i+window]     )  # → (window, n_num_feats)\n",
    "        X_name.append(  arr_name[i : i+window]    )  # → (window,)\n",
    "        X_day.append(   arr_day[i : i+window]     )\n",
    "        X_month.append(arr_month[i : i+window]    )\n",
    "        X_stat.append(  arr_static[i]             )  # → (n_static_feats,)\n",
    "        y.append(       arr_target[i]             )  # → scalar\n",
    "\n",
    "# stack into arrays\n",
    "X_num    = np.stack(X_num)    # (N, window, n_num_feats)\n",
    "X_name   = np.stack(X_name)   # (N, window)\n",
    "X_day    = np.stack(X_day)    # (N, window)\n",
    "X_month  = np.stack(X_month)  # (N, window)\n",
    "X_stat   = np.stack(X_stat)   # (N, n_static_feats)\n",
    "y        = np.array(y)        # (N,)\n",
    "\n",
    "print(X_num.shape, X_name.shape, X_day.shape, X_month.shape, X_stat.shape, y.shape)\n",
    "\n",
    "# ───────────────────────────────────────────────────────────────────────────────\n",
    "# 5. Time-aware train-validation data split\n",
    "# ───────────────────────────────────────────────────────────────────────────────\n",
    "# Initialize empty Python lists to hold your training vs. validation sequences:\n",
    "X_num_train, X_num_val, \\\n",
    "X_name_train, X_name_val, \\\n",
    "X_day_train,  X_day_val,  \\\n",
    "X_month_train,X_month_val,\\\n",
    "X_stat_train, X_stat_val, \\\n",
    "y_train,      y_val = ([] for _ in range(12))\n",
    "\n",
    "window = 14\n",
    "for store_id, grp in df.groupby('Store_No'):\n",
    "    grp = grp.sort_values('Date')\n",
    "    T = len(grp)\n",
    "    n_windows = T - window\n",
    "    if n_windows <= 0: continue\n",
    "\n",
    "    # how many windows to train on for this store\n",
    "    split_store = int(0.8 * n_windows)\n",
    "\n",
    "    arr_num    = grp[time_numeric_cols].values        # (T, n_num_feats)\n",
    "    arr_name   = grp['Name_enc'].values               # (T,)\n",
    "    arr_day    = grp['Day_enc'].values                # (T,)\n",
    "    arr_month  = grp['Month_enc'].values              # (T,)\n",
    "    arr_static = grp[static_cols].iloc[window:].values# (T-window, n_static_feats)\n",
    "    arr_target = grp[['Net_Amount','TC']].values[window:]    # (T-window,)\n",
    "\n",
    "    for i in range(n_windows):\n",
    "        num_seq  = arr_num[i : i+window]\n",
    "        name_seq = arr_name[i : i+window]\n",
    "        day_seq  = arr_day[i : i+window]\n",
    "        month_seq = arr_month[i : i+window]\n",
    "        static = arr_static[i]\n",
    "        target   = arr_target[i]\n",
    "        if i < split_store:\n",
    "            X_num_train.append(num_seq)\n",
    "            X_name_train.append(name_seq)\n",
    "            X_day_train.append(day_seq)\n",
    "            X_month_train.append(month_seq)\n",
    "            X_stat_train.append(static)\n",
    "            y_train.append(target)\n",
    "        else:\n",
    "            X_num_val.append(num_seq)\n",
    "            X_name_val.append(name_seq)\n",
    "            X_day_val.append(day_seq)\n",
    "            X_month_val.append(month_seq)\n",
    "            X_stat_val.append(static)\n",
    "            y_val.append(target)\n",
    "\n",
    "# finally stack\n",
    "X_num_train = np.stack(X_num_train)\n",
    "X_name_train = np.stack(X_name_train)\n",
    "X_day_train = np.stack(X_day_train)\n",
    "X_month_train = np.stack(X_month_train)\n",
    "X_stat_train = np.stack(X_stat_train)\n",
    "y_train     = np.stack(y_train)\n",
    "\n",
    "X_stat_train = np.array(X_stat_train)\n",
    "X_stat_val   = np.array(X_stat_val)\n",
    "\n",
    "# ───────────────────────────────────────────────────────────────────────────────\n",
    "# 6. Build, sanity‑check & train the Keras model (with embeddings) + 2-layer resifual MLP on statics\n",
    "# ───────────────────────────────────────────────────────────────────────────────\n",
    "def build_sales_lstm(\n",
    "        W, F, time_cardinalities, static_cardinalities,\n",
    "        lstm_units   = 64,         # you can tune these\n",
    "        dropout_rate = 0.25,\n",
    "        static_dense = 128,\n",
    "        learning_rate= 1e-3,\n",
    "):\n",
    "# --- time-series inputs ---------------------------------------------------\n",
    "    num_in       = Input(shape=(W, F),           name='num_in')\n",
    "    name_seq_in  = Input(shape=(W,), dtype='int32', name='name_seq_in')\n",
    "    day_seq_in   = Input(shape=(W,), dtype='int32', name='day_seq_in')\n",
    "    month_seq_in = Input(shape=(W,), dtype='int32', name='month_seq_in')\n",
    "\n",
    "    dim = lambda n: min(100, n // 2 + 5)\n",
    "\n",
    "    name_emb  = SpatialDropout1D(dropout_rate)(\n",
    "                   Embedding(time_cardinalities['name'],  dim(time_cardinalities['name']))(name_seq_in))\n",
    "    day_emb   = SpatialDropout1D(dropout_rate)(\n",
    "                   Embedding(time_cardinalities['day'],   dim(time_cardinalities['day']))(day_seq_in))\n",
    "    month_emb = SpatialDropout1D(dropout_rate)(\n",
    "                   Embedding(time_cardinalities['month'], dim(time_cardinalities['month']))(month_seq_in))\n",
    "\n",
    "    time_concat = Concatenate(axis=-1)([num_in, name_emb, day_emb, month_emb])\n",
    "\n",
    "    # --- static branch: **deeper residual** ----------------------------------\n",
    "    static_inputs, static_vecs = [], []\n",
    "    for base, vocab in static_cardinalities:\n",
    "        s_in = Input(shape=(1,), dtype='int32', name=f'{base}_in')  # ✅ correct\n",
    "        s_emb = Embedding(vocab, dim(vocab))(s_in)\n",
    "        s_emb = Flatten()(s_emb)\n",
    "        static_inputs.append(s_in)\n",
    "        static_vecs.append(s_emb)\n",
    "\n",
    "    static_ctx = Concatenate()(static_vecs)             # concat raw embeddings\n",
    "\n",
    "    # MLP block 1\n",
    "    h = Dense(static_dense, 'relu')(static_ctx)\n",
    "    h = BatchNormalization()(h)\n",
    "    h = Dropout(dropout_rate)(h)\n",
    "    # MLP block 2 with RESIDUAL skip\n",
    "    h2 = Dense(static_dense, 'relu')(h)\n",
    "    h2 = BatchNormalization()(h2)\n",
    "    h2 = Dropout(dropout_rate)(h2)\n",
    "    h  = Add()([h, h2])                                # residual connection\n",
    "\n",
    "    # final compressed static context\n",
    "    static_ctx = Dense(static_dense//2, 'relu')(h)\n",
    "    static_ctx = BatchNormalization()(static_ctx)\n",
    "\n",
    "    # ---- tile & state-init exactly like 6.1 ---------------------------------\n",
    "    static_tile = RepeatVector(W)(static_ctx)\n",
    "    time_concat = Concatenate(-1)([time_concat, static_tile])\n",
    "\n",
    "    init_h = Dense(lstm_units, 'tanh')(static_ctx)\n",
    "    init_c = Dense(lstm_units, 'tanh')(static_ctx)\n",
    "\n",
    "    x = LSTM(lstm_units, dropout=0.0)(time_concat,\n",
    "                                      initial_state=[init_h, init_c])\n",
    "    x = BatchNormalization()(x)\n",
    "    x = Dropout(dropout_rate)(x)\n",
    "\n",
    "    out = Dense(2, 'linear')(x)\n",
    "\n",
    "    model = Model(\n",
    "        inputs=[num_in, name_seq_in, day_seq_in, month_seq_in] + static_inputs,\n",
    "        outputs=out, name='Sales_LSTM_TiledResidual')\n",
    "    model.compile(optimizer=tf.keras.optimizers.Adam(learning_rate),\n",
    "                  loss='mse', metrics=['mae'])\n",
    "    return model\n",
    "\n",
    "\n",
    "# Prepare cardinalities for embeddings\n",
    "n_name  = df['Name_enc' ].nunique()\n",
    "n_day   = df['Day_enc'  ].nunique()\n",
    "n_month = df['Month_enc'].nunique()\n",
    "time_cardinalities = {'name': n_name, 'day': n_day, 'month': n_month}\n",
    "\n",
    "static_cardinalities = []\n",
    "for enc_col in static_cols:                      # e.g. \"Store_No_enc\"\n",
    "    base  = enc_col.replace('_enc','')           # \"Store_No\"\n",
    "    vocab = df[enc_col].nunique()\n",
    "    static_cardinalities.append((base, vocab))\n",
    "\n",
    "# window & feature count\n",
    "_, W, F = X_num.shape\n",
    "\n",
    "# Cast *all* arrays to proper dtype and shape\n",
    "X_num_train   = np.asarray(X_num_train,   dtype=np.float32)\n",
    "X_num_val     = np.asarray(X_num_val,     dtype=np.float32)\n",
    "\n",
    "def to_int2d(arr): return np.asarray(arr, dtype=np.int32)\n",
    "X_name_train  = to_int2d(X_name_train)\n",
    "X_day_train   = to_int2d(X_day_train)\n",
    "X_month_train = to_int2d(X_month_train)\n",
    "X_name_val    = to_int2d(X_name_val)\n",
    "X_day_val     = to_int2d(X_day_val)\n",
    "X_month_val   = to_int2d(X_month_val)\n",
    "\n",
    "X_stat_train  = np.asarray(X_stat_train, dtype=np.int32)\n",
    "X_stat_val    = np.asarray(X_stat_val,   dtype=np.int32)\n",
    "y_train       = np.asarray(y_train,      dtype=np.float32)\n",
    "y_val         = np.asarray(y_val,        dtype=np.float32)\n",
    "\n",
    "# ───────────────────────────────────────────────────────────────────────────────\n",
    "# 7. Fit Model\n",
    "# ───────────────────────────────────────────────────────────────────────────────\n",
    "# Build input dicts (by name ─ safest)\n",
    "train_inputs = {\n",
    "    'num_in':       X_num_train,\n",
    "    'name_seq_in':  X_name_train,\n",
    "    'day_seq_in':   X_day_train,\n",
    "    'month_seq_in': X_month_train,\n",
    "}\n",
    "val_inputs   = {\n",
    "    'num_in':       X_num_val,\n",
    "    'name_seq_in':  X_name_val,\n",
    "    'day_seq_in':   X_day_val,\n",
    "    'month_seq_in': X_month_val,\n",
    "}\n",
    "\n",
    "# add static columns (need reshape (N,1))\n",
    "for i, (base, _) in enumerate(static_cardinalities):\n",
    "    train_inputs[f'{base}_in'] = X_stat_train[:, i].reshape(-1,1)\n",
    "    val_inputs  [f'{base}_in'] = X_stat_val[:,   i].reshape(-1,1)\n",
    "\n",
    "# Sanity check: print expected vs actual - make sure ValueError: Functional() don't pop up\n",
    "print(\"\\n── EXPECTED  vs  ACTUAL per‑sample shapes ──\")\n",
    "tmp_model = build_sales_lstm(W, F, time_cardinalities, static_cardinalities)\n",
    "for inp in tmp_model.inputs:\n",
    "    k   = inp.name.split(':')[0]\n",
    "    exp = tuple(inp.shape[1:])\n",
    "    act = tuple(train_inputs[k].shape[1:])\n",
    "    ok  = \"✅\" if exp == act else \"❌\"\n",
    "    print(f\"{k:25s} expected={str(exp):12s} actual={str(act):12s} {ok}\")\n",
    "print(\"────────────────────────────────────────────\\n\")\n",
    "\n",
    "# Instantiate final model & train\n",
    "model = build_sales_lstm(W, F, time_cardinalities, static_cardinalities)\n",
    "es   = EarlyStopping(monitor='val_loss', patience=3, restore_best_weights=True)\n",
    "rlrp = ReduceLROnPlateau(monitor='val_loss', factor=0.5, patience=2, min_lr=1e-6)\n",
    "\n",
    "history = model.fit(\n",
    "    train_inputs, y_train,\n",
    "    validation_data=(val_inputs, y_val),\n",
    "    epochs=50,\n",
    "    batch_size=64,\n",
    "    callbacks=[es, rlrp],\n",
    "    verbose=2\n",
    ")\n",
    "\n",
    "# Plot training curves\n",
    "plt.plot(history.history['loss'],     label='train')\n",
    "plt.plot(history.history['val_loss'], label='val')\n",
    "plt.xlabel('Epoch'); plt.ylabel('MSE Loss')\n",
    "plt.legend(); plt.tight_layout(); plt.show()\n",
    "\n",
    "# ───────────────────────────────────────────────────────────────────────────────\n",
    "# 8.  Evaluate on a hold‑out test set and generate forecasts\n",
    "# ───────────────────────────────────────────────────────────────────────────────\n",
    "import matplotlib.pyplot as plt\n",
    "from sklearn.metrics import mean_absolute_error, mean_squared_error, r2_score\n",
    "import math\n",
    "\n",
    "# Build a fresh 70/15/15 split Train/Val/Test (time‑aware per store) \n",
    "def time_aware_split_by_store(df, window, time_numeric_cols, static_cols):\n",
    "    X_num_tr, X_num_va, X_num_te = [], [], []\n",
    "    X_name_tr, X_name_va, X_name_te = [], [], []\n",
    "    X_day_tr,  X_day_va,  X_day_te  = [], [], []\n",
    "    X_month_tr,X_month_va,X_month_te= [], [], []\n",
    "    X_stat_tr, X_stat_va, X_stat_te = [], [], []\n",
    "    y_tr,      y_va,      y_te      = [], [], []\n",
    "\n",
    "    for _, grp in df.groupby('Store_No'):\n",
    "        grp = grp.sort_values('Date')\n",
    "        T = len(grp)\n",
    "        n_windows = T - window\n",
    "        if n_windows <= 0: continue\n",
    "\n",
    "        n_train = int(0.70 * n_windows)\n",
    "        n_val   = int(0.15 * n_windows)\n",
    "        # remainder → test\n",
    "        n_test  = n_windows - n_train - n_val\n",
    "\n",
    "        arr_num    = grp[time_numeric_cols].values\n",
    "        arr_name   = grp['Name_enc' ].values\n",
    "        arr_day    = grp['Day_enc'  ].values\n",
    "        arr_month  = grp['Month_enc'].values\n",
    "        arr_static = grp[static_cols].iloc[window:].values\n",
    "        arr_target = grp[['Net_Amount','TC']].values[window:]\n",
    "\n",
    "        for i in range(n_windows):\n",
    "            seq_num   = arr_num[i:i+window]\n",
    "            seq_name  = arr_name[i:i+window]\n",
    "            seq_day   = arr_day[i:i+window]\n",
    "            seq_month = arr_month[i:i+window]\n",
    "            stat_vec  = arr_static[i]\n",
    "            target    = arr_target[i]\n",
    "\n",
    "            # buckets\n",
    "            if i < n_train:\n",
    "                bucket = (X_num_tr,  X_name_tr,  X_day_tr,  X_month_tr,  X_stat_tr,  y_tr)\n",
    "            elif i < n_train + n_val:\n",
    "                bucket = (X_num_va,  X_name_va,  X_day_va,  X_month_va,  X_stat_va,  y_va)\n",
    "            else:\n",
    "                bucket = (X_num_te,  X_name_te,  X_day_te,  X_month_te,  X_stat_te,  y_te)\n",
    "\n",
    "            bucket[0].append(seq_num)\n",
    "            bucket[1].append(seq_name)\n",
    "            bucket[2].append(seq_day)\n",
    "            bucket[3].append(seq_month)\n",
    "            bucket[4].append(stat_vec)\n",
    "            bucket[5].append(target)\n",
    "\n",
    "    # stack to np arrays\n",
    "    def _stack(lst): return np.stack(lst) if lst and isinstance(lst[0], np.ndarray) else np.array(lst)\n",
    "    return tuple(map(_stack,\n",
    "        [X_num_tr,X_num_va,X_num_te,\n",
    "         X_name_tr,X_name_va,X_name_te,\n",
    "         X_day_tr,X_day_va,X_day_te,\n",
    "         X_month_tr,X_month_va,X_month_te,\n",
    "         X_stat_tr,X_stat_va,X_stat_te,\n",
    "         y_tr,y_va,y_te]))\n",
    "\n",
    "# build split\n",
    "(split_X_num_tr, split_X_num_va, split_X_num_te,\n",
    " split_X_name_tr, split_X_name_va, split_X_name_te,\n",
    " split_X_day_tr,  split_X_day_va,  split_X_day_te,\n",
    " split_X_month_tr,split_X_month_va,split_X_month_te,\n",
    " split_X_stat_tr, split_X_stat_va, split_X_stat_te,\n",
    " split_y_tr,      split_y_va,      split_y_te) = time_aware_split_by_store(\n",
    "    df, window, time_numeric_cols, static_cols\n",
    ")\n",
    "\n",
    "# Assemble TEST input dict \n",
    "def build_input_dict(X_num,X_name,X_day,X_month,X_stat):\n",
    "    d = {\n",
    "        'num_in':       X_num.astype(np.float32),\n",
    "        'name_seq_in':  X_name.astype(np.int32),\n",
    "        'day_seq_in':   X_day.astype(np.int32),\n",
    "        'month_seq_in': X_month.astype(np.int32)\n",
    "    }\n",
    "    for i,(base,_) in enumerate(static_cardinalities):\n",
    "        d[f'{base}_in'] = X_stat[:,i].reshape(-1,1).astype(np.int32)\n",
    "    return d\n",
    "\n",
    "test_inputs = build_input_dict(\n",
    "    split_X_num_te, split_X_name_te, split_X_day_te,\n",
    "    split_X_month_te, split_X_stat_te)\n",
    "\n",
    "# Predict on the test set\n",
    "y_pred_scaled = model.predict(test_inputs, verbose=0)\n",
    "\n",
    "# Inverse‑scale Net_Amount & TC\n",
    "# remember scaler was fit on numeric_cols, where Net_Amount is col 0 and TC is col 1\n",
    "# we’ll invert only those two columns\n",
    "net_idx = numeric_cols.index('Net_Amount')\n",
    "tc_idx  = numeric_cols.index('TC')\n",
    "\n",
    "def inverse_scale(scaled_vec, col_idx):\n",
    "    tmp      = np.zeros((len(scaled_vec), len(numeric_cols)))\n",
    "    tmp[:,col_idx] = scaled_vec\n",
    "    return scaler.inverse_transform(tmp)[:,col_idx]\n",
    "\n",
    "net_pred = inverse_scale(y_pred_scaled[:,0], net_idx)\n",
    "tc_pred  = inverse_scale(y_pred_scaled[:,1], tc_idx)\n",
    "\n",
    "net_true = inverse_scale(split_y_te[:,0], net_idx)\n",
    "tc_true  = inverse_scale(split_y_te[:,1], tc_idx)\n",
    "\n",
    "# Metrics & Interpretation\n",
    "def interpret(true, pred, name):\n",
    "    # core metrics\n",
    "    mae  = mean_absolute_error(true, pred)\n",
    "    rmse = math.sqrt(mean_squared_error(true, pred))\n",
    "    r2   = r2_score(true, pred)\n",
    "\n",
    "    # reference stats\n",
    "    mean_y = np.mean(true)\n",
    "    std_y  = np.std(true)\n",
    "\n",
    "    # relative ratios\n",
    "    mae_ratio  = mae  / mean_y  if mean_y else float('nan')\n",
    "    rmse_ratio = rmse / std_y   if std_y  else float('nan')\n",
    "\n",
    "    # header\n",
    "    print(f\"\\n=== {name} ===\")\n",
    "    print(f\" MAE : {mae:8.2f}   (mean = {mean_y:8.2f}, MAE/mean = {mae_ratio:.2f})\")\n",
    "    print(f\" RMSE: {rmse:8.2f}   (std  = {std_y:8.2f}, RMSE/std  = {rmse_ratio:.2f})\")\n",
    "    print(f\" R²  : {r2:6.3f}\")\n",
    "\n",
    "    # interpret MAE‑to‑mean\n",
    "    if mae_ratio < 0.10:\n",
    "        print(\"   🔵 Excellent MAE (<10% of mean)\")\n",
    "    elif mae_ratio < 0.20:\n",
    "        print(\"   🟢 Good MAE (<20% of mean)\")\n",
    "    elif mae_ratio < 0.30:\n",
    "        print(\"   🟡 Acceptable MAE (<30% of mean)\")\n",
    "    else:\n",
    "        print(\"   🔴 Poor MAE (>30% of mean)\")\n",
    "\n",
    "    # interpret RMSE‑to‑std\n",
    "    if rmse_ratio < 0.50:\n",
    "        print(\"   🔵 Excellent RMSE (<0.5 σ)\")\n",
    "    elif rmse_ratio < 0.75:\n",
    "        print(\"   🟢 Good RMSE (<0.75 σ)\")\n",
    "    elif rmse_ratio < 1.00:\n",
    "        print(\"   🟡 Acceptable RMSE (<1.0 σ)\")\n",
    "    else:\n",
    "        print(\"   🔴 Poor RMSE (>1.0 σ)\")\n",
    "\n",
    "    # interpret R²\n",
    "    if r2 >= 0.90:\n",
    "        print(\"   🔵 Excellent R² (≥0.90)\")\n",
    "    elif r2 >= 0.75:\n",
    "        print(\"   🟢 Good R² (0.75–0.90)\")\n",
    "    elif r2 >= 0.50:\n",
    "        print(\"   🟡 Acceptable R² (0.50–0.75)\")\n",
    "    else:\n",
    "        print(\"   🔴 Weak R² (<0.50)\")\n",
    "\n",
    "# run it for both targets\n",
    "interpret(net_true, net_pred, \"Net_Amount\")\n",
    "interpret(tc_true,  tc_pred,  \"TC\")\n",
    "\n",
    "# Visual check for Net_Amount\n",
    "fig, ax = plt.subplots(1,2, figsize=(12,4))\n",
    "\n",
    "ax[0].scatter(net_true, net_pred, alpha=.4)\n",
    "ax[0].plot([net_true.min(), net_true.max()],\n",
    "           [net_true.min(), net_true.max()], 'k--')\n",
    "ax[0].set_xlabel(\"True Net_Amount\"); ax[0].set_ylabel(\"Predicted\")\n",
    "ax[0].set_title(\"Net_Amount – scatter\")\n",
    "\n",
    "ax[1].plot(net_true[:200], label='True')    # first 200 horizon windows\n",
    "ax[1].plot(net_pred[:200], label='Pred', alpha=.7)\n",
    "ax[1].set_title(\"Net_Amount – first 200 forecast windows\")\n",
    "ax[1].legend()\n",
    "\n",
    "plt.tight_layout(); plt.show()\n",
    "\n",
    "# Visual check for TC\n",
    "fig, ax = plt.subplots(1,2, figsize=(12,4))\n",
    "\n",
    "ax[0].scatter(tc_true, tc_pred, alpha=.4)\n",
    "ax[0].plot([tc_true.min(), tc_true.max()],\n",
    "           [tc_true.min(), tc_true.max()], 'k--')\n",
    "ax[0].set_xlabel(\"True TC\"); ax[0].set_ylabel(\"Predicted\")\n",
    "ax[0].set_title(\"TC – scatter\")\n",
    "\n",
    "ax[1].plot(tc_true[:200], label='True')    # first 200 horizon windows\n",
    "ax[1].plot(tc_pred[:200], label='Pred', alpha=.7)\n",
    "ax[1].set_title(\"TC – first 200 forecast windows\")\n",
    "ax[1].legend()\n",
    "\n",
    "plt.tight_layout(); plt.show()"
   ]
  },
  {
   "cell_type": "code",
   "execution_count": null,
   "id": "02ef2b39",
   "metadata": {},
   "outputs": [
    {
     "name": "stdout",
     "output_type": "stream",
     "text": [
      "Baseline RMSE = 1015.99\n"
     ]
    },
    {
     "data": {
      "image/png": "[encoded data removed]",
      "text/plain": [
       "<Figure size 800x600 with 1 Axes>"
      ]
     },
     "metadata": {},
     "output_type": "display_data"
    },
    {
     "name": "stdout",
     "output_type": "stream",
     "text": [
      "Baseline TC RMSE = 62.41\n"
     ]
    },
    {
     "data": {
      "image/png": "[encoded data removed]",
      "text/plain": [
       "<Figure size 800x600 with 1 Axes>"
      ]
     },
     "metadata": {},
     "output_type": "display_data"
    }
   ],
   "source": [
    "# ───────────────────────────────────────────────────────────────────────────────\n",
    "# 9. Checking Feature Importance\n",
    "# ───────────────────────────────────────────────────────────────────────────────\n",
    "import numpy as np\n",
    "import matplotlib.pyplot as plt\n",
    "import copy\n",
    "from collections import OrderedDict\n",
    "from sklearn.metrics import mean_squared_error\n",
    "\n",
    "# Helper: inverse-scale a single column (we already defined earlier)\n",
    "def inverse_scale(scaled_vec, col_idx):\n",
    "    tmp              = np.zeros((len(scaled_vec), len(numeric_cols)))\n",
    "    tmp[:, col_idx]  = scaled_vec\n",
    "    return scaler.inverse_transform(tmp)[:, col_idx]\n",
    "\n",
    "# Baseline error on Net_Amount (choose whichever target you care about)\n",
    "base_pred = model.predict(test_inputs, verbose=0)[:, 0]      # column 0 = Net_Amount\n",
    "base_pred = inverse_scale(base_pred, numeric_cols.index('Net_Amount'))\n",
    "base_true = inverse_scale(split_y_te[:, 0], numeric_cols.index('Net_Amount'))\n",
    "base_mse  = mean_squared_error(base_true, base_pred)\n",
    "\n",
    "print(f\"Baseline RMSE = {np.sqrt(base_mse):.2f}\")\n",
    "\n",
    "# Define groups of columns that belong to one logical feature\n",
    "# build a dict: { \"display name\": list[ key(s) in test_inputs ] }\n",
    "groups = OrderedDict({\n",
    "    # time-series numeric (whole sequence counts as one logical feature)\n",
    "    \"Net_Amount_lags\" : [\"num_in\"],   # but we'll permute only the Net column inside num_in\n",
    "    \"TC_lags\"         : [\"num_in\"],\n",
    "    \"Days_after_Opening\": [\"num_in\"],\n",
    "    \"Avg_Temp_lags\"   : [\"num_in\"],\n",
    "    \"Rain?\"           : [\"num_in\"],\n",
    "    \"Puasa\"           : [\"num_in\"],\n",
    "    \"Public_Holiday\"  : [\"num_in\"],\n",
    "\n",
    "    # time-categorical\n",
    "    \"Name_enc_lags\"   : [\"name_seq_in\"],\n",
    "    \"Day_enc_lags\"    : [\"day_seq_in\"],\n",
    "    \"Month_enc_lags\"  : [\"month_seq_in\"],\n",
    "\n",
    "    # static categoricals – each has its own input tensor\n",
    "})\n",
    "for base, _ in static_cardinalities:\n",
    "    groups[base] = [f\"{base}_in\"]\n",
    "\n",
    "# Permutation importance loop\n",
    "importances = OrderedDict()\n",
    "rng = np.random.default_rng(42)\n",
    "\n",
    "for gname, keys in groups.items():\n",
    "    # make a deep copy of the original dict\n",
    "    perturbed = {k: v.copy() for k, v in test_inputs.items()}\n",
    "\n",
    "    for k in keys:\n",
    "        arr = perturbed[k]\n",
    "        # permute **independently for each timestep** if 3-D, else shuffle axis-0\n",
    "        if arr.ndim == 3:          # (N, window, features)\n",
    "            flat = arr.reshape(arr.shape[0], -1)\n",
    "            rng.shuffle(flat, axis=0)\n",
    "            perturbed[k] = flat.reshape(arr.shape)\n",
    "        else:                      # (N,1) or (N,window)\n",
    "            rng.shuffle(arr, axis=0)\n",
    "            perturbed[k] = arr\n",
    "\n",
    "    # predict with the corrupted feature(s)\n",
    "    y_perm = model.predict(perturbed, verbose=0)[:, 0]\n",
    "    y_perm = inverse_scale(y_perm, numeric_cols.index('Net_Amount'))\n",
    "    perm_mse = mean_squared_error(base_true, y_perm)\n",
    "\n",
    "    importances[gname] = np.sqrt(perm_mse) - np.sqrt(base_mse)  # Δ RMSE\n",
    "\n",
    "# Plot\n",
    "names  = list(importances.keys())\n",
    "scores = np.array(list(importances.values()))\n",
    "order  = np.argsort(scores)[::-1]         # highest impact first\n",
    "\n",
    "plt.figure(figsize=(8,6))\n",
    "plt.barh(np.array(names)[order], scores[order])\n",
    "plt.xlabel(\"Increase in RMSE when feature is permuted\")\n",
    "plt.title(\"Permutation Feature Importance – Net_Amount\")\n",
    "plt.gca().invert_yaxis()\n",
    "plt.tight_layout()\n",
    "plt.show()\n",
    "\n",
    "# ───────────────────────────────────────────────────────────────────────────────\n",
    "# 9. (now for TC)\n",
    "# ───────────────────────────────────────────────────────────────────────────────\n",
    "# Baseline TC predictions & RMSE\n",
    "base_pred_tc = model.predict(test_inputs, verbose=0)[:, 1]  # pick the TC column\n",
    "base_pred_tc = inverse_scale(base_pred_tc, numeric_cols.index('TC'))\n",
    "base_true_tc = inverse_scale(split_y_te[:, 1], numeric_cols.index('TC'))\n",
    "base_mse_tc  = mean_squared_error(base_true_tc, base_pred_tc)\n",
    "print(f\"Baseline TC RMSE = {np.sqrt(base_mse_tc):.2f}\")\n",
    "\n",
    "#  Same groups dictionary from before\n",
    "importances_tc = OrderedDict()\n",
    "for gname, keys in groups.items():\n",
    "    perturbed = {k: v.copy() for k, v in test_inputs.items()}\n",
    "    for k in keys:\n",
    "        arr = perturbed[k]\n",
    "        if arr.ndim == 3:\n",
    "            flat = arr.reshape(arr.shape[0], -1)\n",
    "            rng.shuffle(flat, axis=0)\n",
    "            perturbed[k] = flat.reshape(arr.shape)\n",
    "        else:\n",
    "            rng.shuffle(arr, axis=0)\n",
    "            perturbed[k] = arr\n",
    "\n",
    "    # predict on permuted data, then inverse-scale TC\n",
    "    y_p_tc = model.predict(perturbed, verbose=0)[:, 1]\n",
    "    y_p_tc = inverse_scale(y_p_tc, numeric_cols.index('TC'))\n",
    "    imp_mse = mean_squared_error(base_true_tc, y_p_tc)\n",
    "\n",
    "    importances_tc[gname] = np.sqrt(imp_mse) - np.sqrt(base_mse_tc)\n",
    "\n",
    "# Plot TC importances\n",
    "names_tc  = list(importances_tc.keys())\n",
    "scores_tc = np.array(list(importances_tc.values()))\n",
    "order_tc  = np.argsort(scores_tc)[::-1]\n",
    "\n",
    "plt.figure(figsize=(8,6))\n",
    "plt.barh(np.array(names_tc)[order_tc], scores_tc[order_tc])\n",
    "plt.xlabel(\"Increase in TC-RMSE when feature is permuted\")\n",
    "plt.title(\"Permutation Feature Importance – TC\")\n",
    "plt.gca().invert_yaxis()\n",
    "plt.tight_layout()\n",
    "plt.show()\n"
   ]
  },
  {
   "cell_type": "code",
   "execution_count": null,
   "id": "1eb53cbf",
   "metadata": {},
   "outputs": [
    {
     "data": {
      "application/vnd.plotly.v1+json": {
       "config": {
        "plotlyServerURL": "https://plot.ly"
       },
       "data": [
        {
         "hovertemplate": "<b>Date</b>: %{x}<br><b>Net Amount</b>: %{y:.2f}<extra></extra>",
         "mode": "lines+markers",
         "name": "Net Amount",
         "type": "scatter",
         "x": [
          "2025-06-17T00:00:00.000000000",
          "2025-06-18T00:00:00.000000000",
          "2025-06-19T00:00:00.000000000",
          "2025-06-20T00:00:00.000000000",
          "2025-06-21T00:00:00.000000000",
          "2025-06-22T00:00:00.000000000",
          "2025-06-23T00:00:00.000000000",
          "2025-06-24T00:00:00.000000000",
          "2025-06-25T00:00:00.000000000",
          "2025-06-26T00:00:00.000000000",
          "2025-06-27T00:00:00.000000000",
          "2025-06-28T00:00:00.000000000",
          "2025-06-29T00:00:00.000000000",
          "2025-06-30T00:00:00.000000000",
          "2025-07-01T00:00:00.000000000",
          "2025-07-02T00:00:00.000000000",
          "2025-07-03T00:00:00.000000000",
          "2025-07-04T00:00:00.000000000",
          "2025-07-05T00:00:00.000000000",
          "2025-07-06T00:00:00.000000000",
          "2025-07-07T00:00:00.000000000",
          "2025-07-08T00:00:00.000000000",
          "2025-07-09T00:00:00.000000000",
          "2025-07-10T00:00:00.000000000",
          "2025-07-11T00:00:00.000000000",
          "2025-07-12T00:00:00.000000000",
          "2025-07-13T00:00:00.000000000",
          "2025-07-14T00:00:00.000000000",
          "2025-07-15T00:00:00.000000000",
          "2025-07-16T00:00:00.000000000",
          "2025-07-17T00:00:00.000000000",
          "2025-07-18T00:00:00.000000000",
          "2025-07-19T00:00:00.000000000",
          "2025-07-20T00:00:00.000000000",
          "2025-07-21T00:00:00.000000000",
          "2025-07-22T00:00:00.000000000",
          "2025-07-23T00:00:00.000000000",
          "2025-07-24T00:00:00.000000000",
          "2025-07-25T00:00:00.000000000",
          "2025-07-26T00:00:00.000000000",
          "2025-07-27T00:00:00.000000000",
          "2025-07-28T00:00:00.000000000",
          "2025-07-29T00:00:00.000000000",
          "2025-07-30T00:00:00.000000000",
          "2025-07-31T00:00:00.000000000",
          "2025-08-01T00:00:00.000000000",
          "2025-08-02T00:00:00.000000000",
          "2025-08-03T00:00:00.000000000",
          "2025-08-04T00:00:00.000000000",
          "2025-08-05T00:00:00.000000000",
          "2025-08-06T00:00:00.000000000",
          "2025-08-07T00:00:00.000000000",
          "2025-08-08T00:00:00.000000000",
          "2025-08-09T00:00:00.000000000",
          "2025-08-10T00:00:00.000000000",
          "2025-08-11T00:00:00.000000000",
          "2025-08-12T00:00:00.000000000",
          "2025-08-13T00:00:00.000000000",
          "2025-08-14T00:00:00.000000000",
          "2025-08-15T00:00:00.000000000",
          "2025-08-16T00:00:00.000000000",
          "2025-08-17T00:00:00.000000000",
          "2025-08-18T00:00:00.000000000",
          "2025-08-19T00:00:00.000000000",
          "2025-08-20T00:00:00.000000000",
          "2025-08-21T00:00:00.000000000",
          "2025-08-22T00:00:00.000000000",
          "2025-08-23T00:00:00.000000000",
          "2025-08-24T00:00:00.000000000",
          "2025-08-25T00:00:00.000000000",
          "2025-08-26T00:00:00.000000000",
          "2025-08-27T00:00:00.000000000",
          "2025-08-28T00:00:00.000000000",
          "2025-08-29T00:00:00.000000000",
          "2025-08-30T00:00:00.000000000",
          "2025-08-31T00:00:00.000000000",
          "2025-09-01T00:00:00.000000000",
          "2025-09-02T00:00:00.000000000",
          "2025-09-03T00:00:00.000000000",
          "2025-09-04T00:00:00.000000000",
          "2025-09-05T00:00:00.000000000",
          "2025-09-06T00:00:00.000000000",
          "2025-09-07T00:00:00.000000000",
          "2025-09-08T00:00:00.000000000",
          "2025-09-09T00:00:00.000000000",
          "2025-09-10T00:00:00.000000000",
          "2025-09-11T00:00:00.000000000",
          "2025-09-12T00:00:00.000000000",
          "2025-09-13T00:00:00.000000000",
          "2025-09-14T00:00:00.000000000",
          "2025-09-15T00:00:00.000000000",
          "2025-09-16T00:00:00.000000000",
          "2025-09-17T00:00:00.000000000",
          "2025-09-18T00:00:00.000000000",
          "2025-09-19T00:00:00.000000000",
          "2025-09-20T00:00:00.000000000",
          "2025-09-21T00:00:00.000000000",
          "2025-09-22T00:00:00.000000000",
          "2025-09-23T00:00:00.000000000",
          "2025-09-24T00:00:00.000000000",
          "2025-09-25T00:00:00.000000000",
          "2025-09-26T00:00:00.000000000",
          "2025-09-27T00:00:00.000000000",
          "2025-09-28T00:00:00.000000000",
          "2025-09-29T00:00:00.000000000",
          "2025-09-30T00:00:00.000000000",
          "2025-10-01T00:00:00.000000000",
          "2025-10-02T00:00:00.000000000",
          "2025-10-03T00:00:00.000000000",
          "2025-10-04T00:00:00.000000000",
          "2025-10-05T00:00:00.000000000",
          "2025-10-06T00:00:00.000000000",
          "2025-10-07T00:00:00.000000000",
          "2025-10-08T00:00:00.000000000",
          "2025-10-09T00:00:00.000000000",
          "2025-10-10T00:00:00.000000000",
          "2025-10-11T00:00:00.000000000",
          "2025-10-12T00:00:00.000000000",
          "2025-10-13T00:00:00.000000000",
          "2025-10-14T00:00:00.000000000",
          "2025-10-15T00:00:00.000000000",
          "2025-10-16T00:00:00.000000000",
          "2025-10-17T00:00:00.000000000",
          "2025-10-18T00:00:00.000000000",
          "2025-10-19T00:00:00.000000000",
          "2025-10-20T00:00:00.000000000",
          "2025-10-21T00:00:00.000000000",
          "2025-10-22T00:00:00.000000000",
          "2025-10-23T00:00:00.000000000",
          "2025-10-24T00:00:00.000000000",
          "2025-10-25T00:00:00.000000000",
          "2025-10-26T00:00:00.000000000",
          "2025-10-27T00:00:00.000000000",
          "2025-10-28T00:00:00.000000000",
          "2025-10-29T00:00:00.000000000",
          "2025-10-30T00:00:00.000000000",
          "2025-10-31T00:00:00.000000000",
          "2025-11-01T00:00:00.000000000",
          "2025-11-02T00:00:00.000000000",
          "2025-11-03T00:00:00.000000000",
          "2025-11-04T00:00:00.000000000",
          "2025-11-05T00:00:00.000000000",
          "2025-11-06T00:00:00.000000000",
          "2025-11-07T00:00:00.000000000",
          "2025-11-08T00:00:00.000000000",
          "2025-11-09T00:00:00.000000000",
          "2025-11-10T00:00:00.000000000",
          "2025-11-11T00:00:00.000000000",
          "2025-11-12T00:00:00.000000000",
          "2025-11-13T00:00:00.000000000",
          "2025-11-14T00:00:00.000000000",
          "2025-11-15T00:00:00.000000000",
          "2025-11-16T00:00:00.000000000",
          "2025-11-17T00:00:00.000000000",
          "2025-11-18T00:00:00.000000000",
          "2025-11-19T00:00:00.000000000",
          "2025-11-20T00:00:00.000000000",
          "2025-11-21T00:00:00.000000000",
          "2025-11-22T00:00:00.000000000",
          "2025-11-23T00:00:00.000000000",
          "2025-11-24T00:00:00.000000000",
          "2025-11-25T00:00:00.000000000",
          "2025-11-26T00:00:00.000000000",
          "2025-11-27T00:00:00.000000000",
          "2025-11-28T00:00:00.000000000",
          "2025-11-29T00:00:00.000000000",
          "2025-11-30T00:00:00.000000000",
          "2025-12-01T00:00:00.000000000",
          "2025-12-02T00:00:00.000000000",
          "2025-12-03T00:00:00.000000000",
          "2025-12-04T00:00:00.000000000",
          "2025-12-05T00:00:00.000000000",
          "2025-12-06T00:00:00.000000000",
          "2025-12-07T00:00:00.000000000",
          "2025-12-08T00:00:00.000000000",
          "2025-12-09T00:00:00.000000000",
          "2025-12-10T00:00:00.000000000",
          "2025-12-11T00:00:00.000000000",
          "2025-12-12T00:00:00.000000000",
          "2025-12-13T00:00:00.000000000",
          "2025-12-14T00:00:00.000000000",
          "2025-12-15T00:00:00.000000000",
          "2025-12-16T00:00:00.000000000",
          "2025-12-17T00:00:00.000000000",
          "2025-12-18T00:00:00.000000000",
          "2025-12-19T00:00:00.000000000",
          "2025-12-20T00:00:00.000000000",
          "2025-12-21T00:00:00.000000000",
          "2025-12-22T00:00:00.000000000",
          "2025-12-23T00:00:00.000000000",
          "2025-12-24T00:00:00.000000000",
          "2025-12-25T00:00:00.000000000",
          "2025-12-26T00:00:00.000000000",
          "2025-12-27T00:00:00.000000000",
          "2025-12-28T00:00:00.000000000",
          "2025-12-29T00:00:00.000000000",
          "2025-12-30T00:00:00.000000000",
          "2025-12-31T00:00:00.000000000",
          "2026-01-01T00:00:00.000000000",
          "2026-01-02T00:00:00.000000000"
         ],
         "xaxis": "x",
         "y": {
          "bdata": "hYudm5+FvUCFY/Uz/kS9QIVbXsgZxrxAhcNGaa0tvkCFCwGZBi+/QIVLkLVEeL5AhVOAatYuukCFU+5To/C5QIVLdXzmvrpAhbNh4Om2vECF6/RLAmS9QIULecri6L9AhTP7WInnvkCFO1SrhUa6QIWbiN3vkrpAhWu7Msufu0CFk1FqJQ+8QIUbDcx8g79Awz0GOhPCwEDDuRDKx4TAQIVDVNFhgrpAhRNGLbIwukCF+0X+JfO6QIUzHY5k27tAhUPsNU2Kv0DDZT7yv9XAQMOVYb4pr8BAhSvQ3uahukCF688MnwO6QIWL4B8B5bpAhUMTCD73u0CFI3ENP7m/QMNZs3wu48BAw0FNL4CowECFs4IAB3S6QIU763pd7blAhevz5lXWukCFU/fdm++7QIXDMC4xub9Aw1HRODPlwEDDWQ/8marAQIUTfxKWdrpAhWPv7zHtuUCFW1IoI9e6QIUbyFlD8btAhfO8t4y+v0DDQaqxBinBQMN5KLRYIsFAhbNw70gBu0CFe0gj2dq6QIXzxW2CxLtAhcMVUHLRvEDCEXyfaFfAQMPJToDiX8FAwzGrSeALwUCFS/g8uqi6QIVjhXEvWbpAhYtL9sklu0CF4ywF9UW8QMJ1iNtVNMBAw337r4tWwUDDrd8VahbBQIXj+dPg+bpAhROA2pjhukCF++/oyMi7QIWzH/MlyrxAwlm+8ZJtwEDDzZENf4fBQMNtyVhbPsFAhWMRCrUyu0CFgwkAtxG7QIW7c02m+rtAhQtjqcD9vEDDVeg2CYfAQMP1xzsao8FAw+16rx1cwUCFq/KQEWi7QIVrEpz24rpAhcP7CYidu0CFc3VbuJK8QMJxySo9MMBAw6FNBH87wUDDAS/Z8AzBQIWbKtxi+7tAhYuMsESiu0CFE/q5Bau8QIU7ss7Ox71Aw/keDOHSwEDDvXf7+OnBQMMl4QCBsMFAhVNndfnAvECFM2Hrphq8QIWLLSLN7bxAhQsX1n7tvUDDDVkPgMzAQMMdNW7gzsFAw3Ut1DedwUCFQ5CFfMq8QIXDb7QKOrxAhbO+mo4WvUCFQ/8FIBu+QMOFfgR88MBAw+1sQUj2wUDDxfG4Q8DBQIXjaVefA71AhZNYQpVqvECFiyTh0EK9QIXjWKKf0b5Aw2WAHZZ/wUDDBUTM05/CQMN9pn3CYcJAhet9Vl1nvUCFU4tnR++8QIXjRaRht71AhZOUS1umvkDDLXECNkjBQMN9nqkpUMJAw5UacmIGwkCF8wLCKMy8QIX7kzM7bLxAhSMONUljvUCFC7wdGGy+QMO1dg0aQ8FAw2WRyOJbwkDDxf0UNBTCQIXTqePL97xAhVt2syKUvECFQ9GyLXS9QIXrZDoHc75AwyWDZEZAwUDDhdESvVXCQMMFGo4CDsJAhdux99PqvECFQ8sNB4m8QIUbYInRbL1AhfOg5pJtvkDDlSZxtz7BQMNVhdCEVcJAw8VVhHR/wkCFizFhYfi+QIVrsclvG75AhVsxhibevkCFS6vdxLy/QMOd9y7jnMFAw4WOYe6RwkDDpeO5723CQIXbcr61Nb9Ahau34kRkvkCFAyEXOwi/QIXrsqY8pr9Aw90z2Yt+wUDDXX3NHIzCQMNVFiGxcsJAheOEhhFLv0CF22QO1n6+QIWrgzMoJr9AhUuFf/DPv0DDnbGBqY7BQMNF5hxymMJAw8WDtuF9wkCFY7pGIV+/QIVTLIYgkb5AhaPujmk3v0CFkxNWpeC/QMP9q9AKlcFAw31QK1GfwkDD9R0kQ4XCQIXDVHIwbL9AhUseHaftvECFK5SbP1m8QIU7V+3ydbxAhSM212V/v0DDVeTqx7fAQMOpGqaXgcBAhVMCjBx+u0CFo36qF367QIWbRY20frxAhUP9ImubvUDD8Q0IkJTAQMMdZ88BiMFAw/Hm6ahkwUCFq4uEqrq8QIU7hHbmZ7xAhSO5pOYtvUCFc6zbBx2+QMMlPLXvncBAww35DLN7wUDDBX37eELBQIWjK1gJmrxAhevEiJFqvECF43UIO0u9QIVL2gNrSb5AwwlHdqHEwEDDtQ0bBKfBQMOl4LiOasFAhbM4pTPevECFs+/DcKa8QIWrPH3fgL1AhQsQr1d8vkDDvRjxXLvBQA==",
          "dtype": "f8"
         },
         "yaxis": "y"
        },
        {
         "hovertemplate": "<b>Date</b>: %{x}<br><b>Transactions</b>: %{y:.0f}<extra></extra>",
         "mode": "lines+markers",
         "name": "TC",
         "type": "scatter",
         "x": [
          "2025-06-17T00:00:00.000000000",
          "2025-06-18T00:00:00.000000000",
          "2025-06-19T00:00:00.000000000",
          "2025-06-20T00:00:00.000000000",
          "2025-06-21T00:00:00.000000000",
          "2025-06-22T00:00:00.000000000",
          "2025-06-23T00:00:00.000000000",
          "2025-06-24T00:00:00.000000000",
          "2025-06-25T00:00:00.000000000",
          "2025-06-26T00:00:00.000000000",
          "2025-06-27T00:00:00.000000000",
          "2025-06-28T00:00:00.000000000",
          "2025-06-29T00:00:00.000000000",
          "2025-06-30T00:00:00.000000000",
          "2025-07-01T00:00:00.000000000",
          "2025-07-02T00:00:00.000000000",
          "2025-07-03T00:00:00.000000000",
          "2025-07-04T00:00:00.000000000",
          "2025-07-05T00:00:00.000000000",
          "2025-07-06T00:00:00.000000000",
          "2025-07-07T00:00:00.000000000",
          "2025-07-08T00:00:00.000000000",
          "2025-07-09T00:00:00.000000000",
          "2025-07-10T00:00:00.000000000",
          "2025-07-11T00:00:00.000000000",
          "2025-07-12T00:00:00.000000000",
          "2025-07-13T00:00:00.000000000",
          "2025-07-14T00:00:00.000000000",
          "2025-07-15T00:00:00.000000000",
          "2025-07-16T00:00:00.000000000",
          "2025-07-17T00:00:00.000000000",
          "2025-07-18T00:00:00.000000000",
          "2025-07-19T00:00:00.000000000",
          "2025-07-20T00:00:00.000000000",
          "2025-07-21T00:00:00.000000000",
          "2025-07-22T00:00:00.000000000",
          "2025-07-23T00:00:00.000000000",
          "2025-07-24T00:00:00.000000000",
          "2025-07-25T00:00:00.000000000",
          "2025-07-26T00:00:00.000000000",
          "2025-07-27T00:00:00.000000000",
          "2025-07-28T00:00:00.000000000",
          "2025-07-29T00:00:00.000000000",
          "2025-07-30T00:00:00.000000000",
          "2025-07-31T00:00:00.000000000",
          "2025-08-01T00:00:00.000000000",
          "2025-08-02T00:00:00.000000000",
          "2025-08-03T00:00:00.000000000",
          "2025-08-04T00:00:00.000000000",
          "2025-08-05T00:00:00.000000000",
          "2025-08-06T00:00:00.000000000",
          "2025-08-07T00:00:00.000000000",
          "2025-08-08T00:00:00.000000000",
          "2025-08-09T00:00:00.000000000",
          "2025-08-10T00:00:00.000000000",
          "2025-08-11T00:00:00.000000000",
          "2025-08-12T00:00:00.000000000",
          "2025-08-13T00:00:00.000000000",
          "2025-08-14T00:00:00.000000000",
          "2025-08-15T00:00:00.000000000",
          "2025-08-16T00:00:00.000000000",
          "2025-08-17T00:00:00.000000000",
          "2025-08-18T00:00:00.000000000",
          "2025-08-19T00:00:00.000000000",
          "2025-08-20T00:00:00.000000000",
          "2025-08-21T00:00:00.000000000",
          "2025-08-22T00:00:00.000000000",
          "2025-08-23T00:00:00.000000000",
          "2025-08-24T00:00:00.000000000",
          "2025-08-25T00:00:00.000000000",
          "2025-08-26T00:00:00.000000000",
          "2025-08-27T00:00:00.000000000",
          "2025-08-28T00:00:00.000000000",
          "2025-08-29T00:00:00.000000000",
          "2025-08-30T00:00:00.000000000",
          "2025-08-31T00:00:00.000000000",
          "2025-09-01T00:00:00.000000000",
          "2025-09-02T00:00:00.000000000",
          "2025-09-03T00:00:00.000000000",
          "2025-09-04T00:00:00.000000000",
          "2025-09-05T00:00:00.000000000",
          "2025-09-06T00:00:00.000000000",
          "2025-09-07T00:00:00.000000000",
          "2025-09-08T00:00:00.000000000",
          "2025-09-09T00:00:00.000000000",
          "2025-09-10T00:00:00.000000000",
          "2025-09-11T00:00:00.000000000",
          "2025-09-12T00:00:00.000000000",
          "2025-09-13T00:00:00.000000000",
          "2025-09-14T00:00:00.000000000",
          "2025-09-15T00:00:00.000000000",
          "2025-09-16T00:00:00.000000000",
          "2025-09-17T00:00:00.000000000",
          "2025-09-18T00:00:00.000000000",
          "2025-09-19T00:00:00.000000000",
          "2025-09-20T00:00:00.000000000",
          "2025-09-21T00:00:00.000000000",
          "2025-09-22T00:00:00.000000000",
          "2025-09-23T00:00:00.000000000",
          "2025-09-24T00:00:00.000000000",
          "2025-09-25T00:00:00.000000000",
          "2025-09-26T00:00:00.000000000",
          "2025-09-27T00:00:00.000000000",
          "2025-09-28T00:00:00.000000000",
          "2025-09-29T00:00:00.000000000",
          "2025-09-30T00:00:00.000000000",
          "2025-10-01T00:00:00.000000000",
          "2025-10-02T00:00:00.000000000",
          "2025-10-03T00:00:00.000000000",
          "2025-10-04T00:00:00.000000000",
          "2025-10-05T00:00:00.000000000",
          "2025-10-06T00:00:00.000000000",
          "2025-10-07T00:00:00.000000000",
          "2025-10-08T00:00:00.000000000",
          "2025-10-09T00:00:00.000000000",
          "2025-10-10T00:00:00.000000000",
          "2025-10-11T00:00:00.000000000",
          "2025-10-12T00:00:00.000000000",
          "2025-10-13T00:00:00.000000000",
          "2025-10-14T00:00:00.000000000",
          "2025-10-15T00:00:00.000000000",
          "2025-10-16T00:00:00.000000000",
          "2025-10-17T00:00:00.000000000",
          "2025-10-18T00:00:00.000000000",
          "2025-10-19T00:00:00.000000000",
          "2025-10-20T00:00:00.000000000",
          "2025-10-21T00:00:00.000000000",
          "2025-10-22T00:00:00.000000000",
          "2025-10-23T00:00:00.000000000",
          "2025-10-24T00:00:00.000000000",
          "2025-10-25T00:00:00.000000000",
          "2025-10-26T00:00:00.000000000",
          "2025-10-27T00:00:00.000000000",
          "2025-10-28T00:00:00.000000000",
          "2025-10-29T00:00:00.000000000",
          "2025-10-30T00:00:00.000000000",
          "2025-10-31T00:00:00.000000000",
          "2025-11-01T00:00:00.000000000",
          "2025-11-02T00:00:00.000000000",
          "2025-11-03T00:00:00.000000000",
          "2025-11-04T00:00:00.000000000",
          "2025-11-05T00:00:00.000000000",
          "2025-11-06T00:00:00.000000000",
          "2025-11-07T00:00:00.000000000",
          "2025-11-08T00:00:00.000000000",
          "2025-11-09T00:00:00.000000000",
          "2025-11-10T00:00:00.000000000",
          "2025-11-11T00:00:00.000000000",
          "2025-11-12T00:00:00.000000000",
          "2025-11-13T00:00:00.000000000",
          "2025-11-14T00:00:00.000000000",
          "2025-11-15T00:00:00.000000000",
          "2025-11-16T00:00:00.000000000",
          "2025-11-17T00:00:00.000000000",
          "2025-11-18T00:00:00.000000000",
          "2025-11-19T00:00:00.000000000",
          "2025-11-20T00:00:00.000000000",
          "2025-11-21T00:00:00.000000000",
          "2025-11-22T00:00:00.000000000",
          "2025-11-23T00:00:00.000000000",
          "2025-11-24T00:00:00.000000000",
          "2025-11-25T00:00:00.000000000",
          "2025-11-26T00:00:00.000000000",
          "2025-11-27T00:00:00.000000000",
          "2025-11-28T00:00:00.000000000",
          "2025-11-29T00:00:00.000000000",
          "2025-11-30T00:00:00.000000000",
          "2025-12-01T00:00:00.000000000",
          "2025-12-02T00:00:00.000000000",
          "2025-12-03T00:00:00.000000000",
          "2025-12-04T00:00:00.000000000",
          "2025-12-05T00:00:00.000000000",
          "2025-12-06T00:00:00.000000000",
          "2025-12-07T00:00:00.000000000",
          "2025-12-08T00:00:00.000000000",
          "2025-12-09T00:00:00.000000000",
          "2025-12-10T00:00:00.000000000",
          "2025-12-11T00:00:00.000000000",
          "2025-12-12T00:00:00.000000000",
          "2025-12-13T00:00:00.000000000",
          "2025-12-14T00:00:00.000000000",
          "2025-12-15T00:00:00.000000000",
          "2025-12-16T00:00:00.000000000",
          "2025-12-17T00:00:00.000000000",
          "2025-12-18T00:00:00.000000000",
          "2025-12-19T00:00:00.000000000",
          "2025-12-20T00:00:00.000000000",
          "2025-12-21T00:00:00.000000000",
          "2025-12-22T00:00:00.000000000",
          "2025-12-23T00:00:00.000000000",
          "2025-12-24T00:00:00.000000000",
          "2025-12-25T00:00:00.000000000",
          "2025-12-26T00:00:00.000000000",
          "2025-12-27T00:00:00.000000000",
          "2025-12-28T00:00:00.000000000",
          "2025-12-29T00:00:00.000000000",
          "2025-12-30T00:00:00.000000000",
          "2025-12-31T00:00:00.000000000",
          "2026-01-01T00:00:00.000000000",
          "2026-01-02T00:00:00.000000000"
         ],
         "xaxis": "x2",
         "y": {
          "bdata": "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",
          "dtype": "f8"
         },
         "yaxis": "y2"
        }
       ],
       "layout": {
        "annotations": [
         {
          "font": {
           "size": 16
          },
          "showarrow": false,
          "text": "Net_Amount – 200-step Forecast",
          "x": 0.5,
          "xanchor": "center",
          "xref": "paper",
          "y": 1,
          "yanchor": "bottom",
          "yref": "paper"
         },
         {
          "font": {
           "size": 16
          },
          "showarrow": false,
          "text": "TC – 200-step Forecast",
          "x": 0.5,
          "xanchor": "center",
          "xref": "paper",
          "y": 0.45,
          "yanchor": "bottom",
          "yref": "paper"
         }
        ],
        "height": 600,
        "hovermode": "x unified",
        "margin": {
         "b": 40,
         "t": 80
        },
        "template": {
         "data": {
          "bar": [
           {
            "error_x": {
             "color": "#2a3f5f"
            },
            "error_y": {
             "color": "#2a3f5f"
            },
            "marker": {
             "line": {
              "color": "#E5ECF6",
              "width": 0.5
             },
             "pattern": {
              "fillmode": "overlay",
              "size": 10,
              "solidity": 0.2
             }
            },
            "type": "bar"
           }
          ],
          "barpolar": [
           {
            "marker": {
             "line": {
              "color": "#E5ECF6",
              "width": 0.5
             },
             "pattern": {
              "fillmode": "overlay",
              "size": 10,
              "solidity": 0.2
             }
            },
            "type": "barpolar"
           }
          ],
          "carpet": [
           {
            "aaxis": {
             "endlinecolor": "#2a3f5f",
             "gridcolor": "white",
             "linecolor": "white",
             "minorgridcolor": "white",
             "startlinecolor": "#2a3f5f"
            },
            "baxis": {
             "endlinecolor": "#2a3f5f",
             "gridcolor": "white",
             "linecolor": "white",
             "minorgridcolor": "white",
             "startlinecolor": "#2a3f5f"
            },
            "type": "carpet"
           }
          ],
          "choropleth": [
           {
            "colorbar": {
             "outlinewidth": 0,
             "ticks": ""
            },
            "type": "choropleth"
           }
          ],
          "contour": [
           {
            "colorbar": {
             "outlinewidth": 0,
             "ticks": ""
            },
            "colorscale": [
             [
              0,
              "#0d0887"
             ],
             [
              0.1111111111111111,
              "#46039f"
             ],
             [
              0.2222222222222222,
              "#7201a8"
             ],
             [
              0.3333333333333333,
              "#9c179e"
             ],
             [
              0.4444444444444444,
              "#bd3786"
             ],
             [
              0.5555555555555556,
              "#d8576b"
             ],
             [
              0.6666666666666666,
              "#ed7953"
             ],
             [
              0.7777777777777778,
              "#fb9f3a"
             ],
             [
              0.8888888888888888,
              "#fdca26"
             ],
             [
              1,
              "#f0f921"
             ]
            ],
            "type": "contour"
           }
          ],
          "contourcarpet": [
           {
            "colorbar": {
             "outlinewidth": 0,
             "ticks": ""
            },
            "type": "contourcarpet"
           }
          ],
          "heatmap": [
           {
            "colorbar": {
             "outlinewidth": 0,
             "ticks": ""
            },
            "colorscale": [
             [
              0,
              "#0d0887"
             ],
             [
              0.1111111111111111,
              "#46039f"
             ],
             [
              0.2222222222222222,
              "#7201a8"
             ],
             [
              0.3333333333333333,
              "#9c179e"
             ],
             [
              0.4444444444444444,
              "#bd3786"
             ],
             [
              0.5555555555555556,
              "#d8576b"
             ],
             [
              0.6666666666666666,
              "#ed7953"
             ],
             [
              0.7777777777777778,
              "#fb9f3a"
             ],
             [
              0.8888888888888888,
              "#fdca26"
             ],
             [
              1,
              "#f0f921"
             ]
            ],
            "type": "heatmap"
           }
          ],
          "histogram": [
           {
            "marker": {
             "pattern": {
              "fillmode": "overlay",
              "size": 10,
              "solidity": 0.2
             }
            },
            "type": "histogram"
           }
          ],
          "histogram2d": [
           {
            "colorbar": {
             "outlinewidth": 0,
             "ticks": ""
            },
            "colorscale": [
             [
              0,
              "#0d0887"
             ],
             [
              0.1111111111111111,
              "#46039f"
             ],
             [
              0.2222222222222222,
              "#7201a8"
             ],
             [
              0.3333333333333333,
              "#9c179e"
             ],
             [
              0.4444444444444444,
              "#bd3786"
             ],
             [
              0.5555555555555556,
              "#d8576b"
             ],
             [
              0.6666666666666666,
              "#ed7953"
             ],
             [
              0.7777777777777778,
              "#fb9f3a"
             ],
             [
              0.8888888888888888,
              "#fdca26"
             ],
             [
              1,
              "#f0f921"
             ]
            ],
            "type": "histogram2d"
           }
          ],
          "histogram2dcontour": [
           {
            "colorbar": {
             "outlinewidth": 0,
             "ticks": ""
            },
            "colorscale": [
             [
              0,
              "#0d0887"
             ],
             [
              0.1111111111111111,
              "#46039f"
             ],
             [
              0.2222222222222222,
              "#7201a8"
             ],
             [
              0.3333333333333333,
              "#9c179e"
             ],
             [
              0.4444444444444444,
              "#bd3786"
             ],
             [
              0.5555555555555556,
              "#d8576b"
             ],
             [
              0.6666666666666666,
              "#ed7953"
             ],
             [
              0.7777777777777778,
              "#fb9f3a"
             ],
             [
              0.8888888888888888,
              "#fdca26"
             ],
             [
              1,
              "#f0f921"
             ]
            ],
            "type": "histogram2dcontour"
           }
          ],
          "mesh3d": [
           {
            "colorbar": {
             "outlinewidth": 0,
             "ticks": ""
            },
            "type": "mesh3d"
           }
          ],
          "parcoords": [
           {
            "line": {
             "colorbar": {
              "outlinewidth": 0,
              "ticks": ""
             }
            },
            "type": "parcoords"
           }
          ],
          "pie": [
           {
            "automargin": true,
            "type": "pie"
           }
          ],
          "scatter": [
           {
            "fillpattern": {
             "fillmode": "overlay",
             "size": 10,
             "solidity": 0.2
            },
            "type": "scatter"
           }
          ],
          "scatter3d": [
           {
            "line": {
             "colorbar": {
              "outlinewidth": 0,
              "ticks": ""
             }
            },
            "marker": {
             "colorbar": {
              "outlinewidth": 0,
              "ticks": ""
             }
            },
            "type": "scatter3d"
           }
          ],
          "scattercarpet": [
           {
            "marker": {
             "colorbar": {
              "outlinewidth": 0,
              "ticks": ""
             }
            },
            "type": "scattercarpet"
           }
          ],
          "scattergeo": [
           {
            "marker": {
             "colorbar": {
              "outlinewidth": 0,
              "ticks": ""
             }
            },
            "type": "scattergeo"
           }
          ],
          "scattergl": [
           {
            "marker": {
             "colorbar": {
              "outlinewidth": 0,
              "ticks": ""
             }
            },
            "type": "scattergl"
           }
          ],
          "scattermap": [
           {
            "marker": {
             "colorbar": {
              "outlinewidth": 0,
              "ticks": ""
             }
            },
            "type": "scattermap"
           }
          ],
          "scattermapbox": [
           {
            "marker": {
             "colorbar": {
              "outlinewidth": 0,
              "ticks": ""
             }
            },
            "type": "scattermapbox"
           }
          ],
          "scatterpolar": [
           {
            "marker": {
             "colorbar": {
              "outlinewidth": 0,
              "ticks": ""
             }
            },
            "type": "scatterpolar"
           }
          ],
          "scatterpolargl": [
           {
            "marker": {
             "colorbar": {
              "outlinewidth": 0,
              "ticks": ""
             }
            },
            "type": "scatterpolargl"
           }
          ],
          "scatterternary": [
           {
            "marker": {
             "colorbar": {
              "outlinewidth": 0,
              "ticks": ""
             }
            },
            "type": "scatterternary"
           }
          ],
          "surface": [
           {
            "colorbar": {
             "outlinewidth": 0,
             "ticks": ""
            },
            "colorscale": [
             [
              0,
              "#0d0887"
             ],
             [
              0.1111111111111111,
              "#46039f"
             ],
             [
              0.2222222222222222,
              "#7201a8"
             ],
             [
              0.3333333333333333,
              "#9c179e"
             ],
             [
              0.4444444444444444,
              "#bd3786"
             ],
             [
              0.5555555555555556,
              "#d8576b"
             ],
             [
              0.6666666666666666,
              "#ed7953"
             ],
             [
              0.7777777777777778,
              "#fb9f3a"
             ],
             [
              0.8888888888888888,
              "#fdca26"
             ],
             [
              1,
              "#f0f921"
             ]
            ],
            "type": "surface"
           }
          ],
          "table": [
           {
            "cells": {
             "fill": {
              "color": "#EBF0F8"
             },
             "line": {
              "color": "white"
             }
            },
            "header": {
             "fill": {
              "color": "#C8D4E3"
             },
             "line": {
              "color": "white"
             }
            },
            "type": "table"
           }
          ]
         },
         "layout": {
          "annotationdefaults": {
           "arrowcolor": "#2a3f5f",
           "arrowhead": 0,
           "arrowwidth": 1
          },
          "autotypenumbers": "strict",
          "coloraxis": {
           "colorbar": {
            "outlinewidth": 0,
            "ticks": ""
           }
          },
          "colorscale": {
           "diverging": [
            [
             0,
             "#8e0152"
            ],
            [
             0.1,
             "#c51b7d"
            ],
            [
             0.2,
             "#de77ae"
            ],
            [
             0.3,
             "#f1b6da"
            ],
            [
             0.4,
             "#fde0ef"
            ],
            [
             0.5,
             "#f7f7f7"
            ],
            [
             0.6,
             "#e6f5d0"
            ],
            [
             0.7,
             "#b8e186"
            ],
            [
             0.8,
             "#7fbc41"
            ],
            [
             0.9,
             "#4d9221"
            ],
            [
             1,
             "#276419"
            ]
           ],
           "sequential": [
            [
             0,
             "#0d0887"
            ],
            [
             0.1111111111111111,
             "#46039f"
            ],
            [
             0.2222222222222222,
             "#7201a8"
            ],
            [
             0.3333333333333333,
             "#9c179e"
            ],
            [
             0.4444444444444444,
             "#bd3786"
            ],
            [
             0.5555555555555556,
             "#d8576b"
            ],
            [
             0.6666666666666666,
             "#ed7953"
            ],
            [
             0.7777777777777778,
             "#fb9f3a"
            ],
            [
             0.8888888888888888,
             "#fdca26"
            ],
            [
             1,
             "#f0f921"
            ]
           ],
           "sequentialminus": [
            [
             0,
             "#0d0887"
            ],
            [
             0.1111111111111111,
             "#46039f"
            ],
            [
             0.2222222222222222,
             "#7201a8"
            ],
            [
             0.3333333333333333,
             "#9c179e"
            ],
            [
             0.4444444444444444,
             "#bd3786"
            ],
            [
             0.5555555555555556,
             "#d8576b"
            ],
            [
             0.6666666666666666,
             "#ed7953"
            ],
            [
             0.7777777777777778,
             "#fb9f3a"
            ],
            [
             0.8888888888888888,
             "#fdca26"
            ],
            [
             1,
             "#f0f921"
            ]
           ]
          },
          "colorway": [
           "#636efa",
           "#EF553B",
           "#00cc96",
           "#ab63fa",
           "#FFA15A",
           "#19d3f3",
           "#FF6692",
           "#B6E880",
           "#FF97FF",
           "#FECB52"
          ],
          "font": {
           "color": "#2a3f5f"
          },
          "geo": {
           "bgcolor": "white",
           "lakecolor": "white",
           "landcolor": "#E5ECF6",
           "showlakes": true,
           "showland": true,
           "subunitcolor": "white"
          },
          "hoverlabel": {
           "align": "left"
          },
          "hovermode": "closest",
          "mapbox": {
           "style": "light"
          },
          "paper_bgcolor": "white",
          "plot_bgcolor": "#E5ECF6",
          "polar": {
           "angularaxis": {
            "gridcolor": "white",
            "linecolor": "white",
            "ticks": ""
           },
           "bgcolor": "#E5ECF6",
           "radialaxis": {
            "gridcolor": "white",
            "linecolor": "white",
            "ticks": ""
           }
          },
          "scene": {
           "xaxis": {
            "backgroundcolor": "#E5ECF6",
            "gridcolor": "white",
            "gridwidth": 2,
            "linecolor": "white",
            "showbackground": true,
            "ticks": "",
            "zerolinecolor": "white"
           },
           "yaxis": {
            "backgroundcolor": "#E5ECF6",
            "gridcolor": "white",
            "gridwidth": 2,
            "linecolor": "white",
            "showbackground": true,
            "ticks": "",
            "zerolinecolor": "white"
           },
           "zaxis": {
            "backgroundcolor": "#E5ECF6",
            "gridcolor": "white",
            "gridwidth": 2,
            "linecolor": "white",
            "showbackground": true,
            "ticks": "",
            "zerolinecolor": "white"
           }
          },
          "shapedefaults": {
           "line": {
            "color": "#2a3f5f"
           }
          },
          "ternary": {
           "aaxis": {
            "gridcolor": "white",
            "linecolor": "white",
            "ticks": ""
           },
           "baxis": {
            "gridcolor": "white",
            "linecolor": "white",
            "ticks": ""
           },
           "bgcolor": "#E5ECF6",
           "caxis": {
            "gridcolor": "white",
            "linecolor": "white",
            "ticks": ""
           }
          },
          "title": {
           "x": 0.05
          },
          "xaxis": {
           "automargin": true,
           "gridcolor": "white",
           "linecolor": "white",
           "ticks": "",
           "title": {
            "standoff": 15
           },
           "zerolinecolor": "white",
           "zerolinewidth": 2
          },
          "yaxis": {
           "automargin": true,
           "gridcolor": "white",
           "linecolor": "white",
           "ticks": "",
           "title": {
            "standoff": 15
           },
           "zerolinecolor": "white",
           "zerolinewidth": 2
          }
         }
        },
        "title": {
         "text": "200-Step Autoregressive Forecast"
        },
        "width": 900,
        "xaxis": {
         "anchor": "y",
         "domain": [
          0,
          1
         ],
         "matches": "x2",
         "showticklabels": false
        },
        "xaxis2": {
         "anchor": "y2",
         "domain": [
          0,
          1
         ],
         "title": {
          "text": "Date"
         }
        },
        "yaxis": {
         "anchor": "x",
         "domain": [
          0.55,
          1
         ],
         "title": {
          "text": "RM"
         }
        },
        "yaxis2": {
         "anchor": "x2",
         "domain": [
          0,
          0.45
         ],
         "title": {
          "text": "Transactions"
         }
        }
       }
      }
     },
     "metadata": {},
     "output_type": "display_data"
    }
   ],
   "source": [
    "# ───────────────────────────────────────────────────────────────────────────────\n",
    "# 10.  200-step autoregressive forecast - not very accurate\n",
    "# ───────────────────────────────────────────────────────────────────────────────\n",
    "import plotly.graph_objects as go\n",
    "from plotly.subplots import make_subplots\n",
    "from sklearn.preprocessing import LabelEncoder\n",
    "\n",
    "# Ensure df has full-day and month columns\n",
    "df['Date']  = pd.to_datetime(df['Date'])\n",
    "df['Day']   = df['Date'].dt.day_name()            # 'Monday', 'Tuesday', …\n",
    "df['Month'] = df['Date'].dt.month.astype(str)     # '1' … '12'\n",
    "\n",
    "# Fit (or re-fit) your Day/Month encoders \n",
    "encoders['Day'] = LabelEncoder().fit([\n",
    "    'Monday','Tuesday','Wednesday','Thursday','Friday','Saturday','Sunday'\n",
    "])\n",
    "encoders['Month'] = LabelEncoder().fit([str(i) for i in range(1,13)])\n",
    "\n",
    "# (Re-)attach the encoded columns to df\n",
    "df['Day_enc']   = encoders['Day'].transform(df['Day'])\n",
    "df['Month_enc'] = encoders['Month'].transform(df['Month'])\n",
    "\n",
    "# Prep the last window \n",
    "future_horizon = 200\n",
    "last_date      = df['Date'].max()\n",
    "\n",
    "tail_df   = df.sort_values('Date').tail(window).copy()\n",
    "seq_num   = tail_df[time_numeric_cols].values.astype(np.float32)\n",
    "seq_name  = tail_df['Name_enc'].values.astype(np.int32)\n",
    "seq_day   = tail_df['Day_enc'].values.astype(np.int32)\n",
    "seq_month = tail_df['Month_enc'].values.astype(np.int32)\n",
    "\n",
    "static_vec = tail_df.iloc[-1][static_cols].values.astype(np.int32)\n",
    "\n",
    "dates_f, net_f, tc_f = [], [], []\n",
    "\n",
    "# Autoregressive loop \n",
    "for step in range(future_horizon):\n",
    "    # build one-step input dict\n",
    "    sample_inputs = {\n",
    "        'num_in':       seq_num[np.newaxis, ...],\n",
    "        'name_seq_in':  seq_name[np.newaxis, ...],\n",
    "        'day_seq_in':   seq_day[np.newaxis, ...],\n",
    "        'month_seq_in': seq_month[np.newaxis, ...],\n",
    "    }\n",
    "    for i, (base, _) in enumerate(static_cardinalities):\n",
    "        sample_inputs[f'{base}_in'] = static_vec[[i]].reshape(1,1)\n",
    "\n",
    "    # predict & inverse-scale\n",
    "    yhat_s = model.predict(sample_inputs, verbose=0)[0]\n",
    "    net_s, tc_s = yhat_s\n",
    "    net_v = inverse_scale([net_s], numeric_cols.index('Net_Amount'))[0]\n",
    "    tc_v  = inverse_scale([tc_s],  numeric_cols.index('TC'))[0]\n",
    "\n",
    "    # record the date + values\n",
    "    curr_date = last_date + pd.Timedelta(days=step+1)\n",
    "    dates_f.append(curr_date)\n",
    "    net_f.append(net_v)\n",
    "    tc_f.append(tc_v)\n",
    "\n",
    "    # advance day & month encodings for the *next* step\n",
    "    next_day_str   = curr_date.day_name()    # full weekday name\n",
    "    next_month_str = str(curr_date.month)    # '1'–'12'\n",
    "\n",
    "    seq_day = np.roll(seq_day, -1)\n",
    "    seq_day[-1] = encoders['Day'].transform([next_day_str])[0]\n",
    "\n",
    "    seq_month = np.roll(seq_month, -1)\n",
    "    seq_month[-1] = encoders['Month'].transform([next_month_str])[0]\n",
    "\n",
    "    # roll the numeric window\n",
    "    new_row = seq_num[-1].copy()\n",
    "    new_row[numeric_cols.index('Net_Amount')] = net_s\n",
    "    new_row[numeric_cols.index('TC')]         = tc_s\n",
    "    seq_num = np.vstack([seq_num[1:], new_row])\n",
    "\n",
    "# Build forecast DF & plot\n",
    "df_forecast = pd.DataFrame({\n",
    "    'Date':       dates_f,\n",
    "    'Net_Amount': net_f,\n",
    "    'TC':         tc_f,\n",
    "})\n",
    "\n",
    "fig = make_subplots(\n",
    "    rows=2, cols=1, shared_xaxes=True,\n",
    "    subplot_titles=('Net_Amount – 200-step Forecast', 'TC – 200-step Forecast'),\n",
    "    vertical_spacing=0.1\n",
    ")\n",
    "\n",
    "# Net_Amount trace\n",
    "fig.add_trace(\n",
    "    go.Scatter(\n",
    "        x=df_forecast['Date'],\n",
    "        y=df_forecast['Net_Amount'],\n",
    "        mode='lines+markers',\n",
    "        name='Net Amount',\n",
    "        hovertemplate=\n",
    "            '<b>Date</b>: %{x}<br>'+\n",
    "            '<b>Net Amount</b>: %{y:.2f}<extra></extra>'\n",
    "    ),\n",
    "    row=1, col=1\n",
    ")\n",
    "\n",
    "# TC trace\n",
    "fig.add_trace(\n",
    "    go.Scatter(\n",
    "        x=df_forecast['Date'],\n",
    "        y=df_forecast['TC'],\n",
    "        mode='lines+markers',\n",
    "        name='TC',\n",
    "        hovertemplate=\n",
    "            '<b>Date</b>: %{x}<br>'+\n",
    "            '<b>Transactions</b>: %{y:.0f}<extra></extra>'\n",
    "    ),\n",
    "    row=2, col=1\n",
    ")\n",
    "\n",
    "# Layout tweaks\n",
    "fig.update_layout(\n",
    "    height=600, width=900,\n",
    "    hovermode='x unified',           # vertical line at cursor\n",
    "    title_text='200-Step Autoregressive Forecast',\n",
    "    margin=dict(t=80, b=40)\n",
    ")\n",
    "\n",
    "# Axis labels\n",
    "fig.update_xaxes(title_text='Date', row=2, col=1)\n",
    "fig.update_yaxes(title_text='RM',           row=1, col=1)\n",
    "fig.update_yaxes(title_text='Transactions', row=2, col=1)\n",
    "\n",
    "fig.show()\n"
   ]
  },
  {
   "cell_type": "code",
   "execution_count": null,
   "id": "097b7d23",
   "metadata": {},
   "outputs": [
    {
     "data": {
      "application/vnd.jupyter.widget-view+json": {
       "model_id": "e7dd2632580f40d5a962f4bf1c81b0e3",
       "version_major": 2,
       "version_minor": 0
      },
      "text/plain": [
       "Dropdown(description='Select Store_No:', options=(np.int64(1), np.int64(2), np.int64(4), np.int64(7), np.int64…"
      ]
     },
     "metadata": {},
     "output_type": "display_data"
    },
    {
     "data": {
      "application/vnd.jupyter.widget-view+json": {
       "model_id": "611468db5bbc42be8be183864bc72a65",
       "version_major": 2,
       "version_minor": 0
      },
      "text/plain": [
       "Output()"
      ]
     },
     "metadata": {},
     "output_type": "display_data"
    }
   ],
   "source": [
    "# ───────────────────────────────────────────────────────────────────────────────\n",
    "# 11. Forecasts - but can differentiate by store no\n",
    "# ───────────────────────────────────────────────────────────────────────────────\n",
    "# defining scale_cols & new inverse_scale\n",
    "scale_cols = ['Net_Amount', 'TC', \n",
    "              'Days_after_Opening', 'Average Daily Temperature (°C)']\n",
    "\n",
    "def inverse_scale(scaled_vec, col_name):\n",
    "    \"\"\"\n",
    "    scaled_vec: list or array of length N\n",
    "    col_name : one of scale_cols\n",
    "    \"\"\"\n",
    "    # how many features our scaler was actually fit on?\n",
    "    n_feats = scaler.min_.shape[0]           # e.g. 4\n",
    "    tmp     = np.zeros((len(scaled_vec), n_feats))\n",
    "    idx     = scale_cols.index(col_name)\n",
    "    tmp[:, idx] = scaled_vec\n",
    "    return scaler.inverse_transform(tmp)[:, idx]\n",
    "\n",
    "\n",
    "# Build actuals DF (blue line)\n",
    "df_actual = (\n",
    "    df[['Date','Store_No','Net_Amount','TC']].copy()\n",
    "      .assign(Date=lambda d: pd.to_datetime(d['Date']))\n",
    "      .query(\"Date >= '2025-06-17'\")\n",
    "      .sort_values(['Store_No','Date'])\n",
    ")\n",
    "\n",
    "# Forecast each store for 21 days (orange line)\n",
    "all_forecasts = []\n",
    "future_horizon = 21\n",
    "\n",
    "df['Date'] = pd.to_datetime(df['Date'])\n",
    "\n",
    "for store_id in df['Store_No'].unique():\n",
    "    one = df[df['Store_No']==store_id].sort_values('Date')\n",
    "    if len(one) < window:\n",
    "        continue\n",
    "\n",
    "    tail_df   = one.tail(window).copy()\n",
    "    last_date = tail_df['Date'].max()\n",
    "\n",
    "    # time‐series features (7 dims) → seq_num\n",
    "    seq_num   = tail_df[time_numeric_cols].values.astype(np.float32)\n",
    "    seq_name  = tail_df['Name_enc'].values.astype(np.int32)\n",
    "    seq_day   = tail_df['Day_enc'].values.astype(np.int32)\n",
    "    seq_month = tail_df['Month_enc'].values.astype(np.int32)\n",
    "    static_vec= tail_df.iloc[-1][static_cols].values.astype(np.int32)\n",
    "\n",
    "    dates_f, net_f, tc_f = [], [], []\n",
    "\n",
    "    for step in range(future_horizon):\n",
    "        # build input dict\n",
    "        inp = {\n",
    "            'num_in'      : seq_num[np.newaxis],\n",
    "            'name_seq_in' : seq_name[np.newaxis],\n",
    "            'day_seq_in'  : seq_day[np.newaxis],\n",
    "            'month_seq_in': seq_month[np.newaxis],\n",
    "        }\n",
    "        for i,(base,_) in enumerate(static_cardinalities):\n",
    "            inp[f'{base}_in'] = static_vec[[i]].reshape(1,1)\n",
    "\n",
    "        # predict (scaled) & inverse‐scale using the NEW function\n",
    "        y_s       = model.predict(inp, verbose=0)[0]\n",
    "        net_s, tc_s = y_s\n",
    "        net_v = inverse_scale([net_s], 'Net_Amount')[0]\n",
    "        tc_v  = inverse_scale([tc_s],  'TC'        )[0]\n",
    "\n",
    "        # record date + true‐scale values\n",
    "        curr_date = last_date + pd.Timedelta(days=step+1)\n",
    "        dates_f.append(curr_date)\n",
    "        net_f.append(net_v)\n",
    "        tc_f .append(tc_v)\n",
    "\n",
    "        # roll day/month encoding\n",
    "        day_str   = curr_date.day_name()\n",
    "        month_str = str(curr_date.month)\n",
    "        seq_day   = np.roll(seq_day,   -1)\n",
    "        seq_day[-1]   = encoders['Day'  ].transform([day_str])[0]\n",
    "        seq_month = np.roll(seq_month, -1)\n",
    "        seq_month[-1] = encoders['Month'].transform([month_str])[0]\n",
    "\n",
    "        # roll the numeric window (uses time_numeric_cols indexes)\n",
    "        new_row = seq_num[-1].copy()\n",
    "        j0 = time_numeric_cols.index('Net_Amount')\n",
    "        j1 = time_numeric_cols.index('TC')\n",
    "        new_row[j0] = net_s\n",
    "        new_row[j1] = tc_s\n",
    "        seq_num = np.vstack([seq_num[1:], new_row])\n",
    "\n",
    "    # assemble DF for this store\n",
    "    df_fc = pd.DataFrame({\n",
    "        'Date'      : dates_f,\n",
    "        'Net_Amount': net_f,\n",
    "        'TC'        : tc_f,\n",
    "        'Store_No'  : store_id\n",
    "    })\n",
    "    all_forecasts.append(df_fc)\n",
    "\n",
    "df_all = pd.concat(all_forecasts, ignore_index=True)\n",
    "\n",
    "import plotly.graph_objects as go\n",
    "from plotly.subplots import make_subplots\n",
    "import ipywidgets as widgets\n",
    "from IPython.display import display\n",
    "import pandas as pd\n",
    "\n",
    "df_actual = pd.read_csv(r\" ... csv\")\n",
    "df_actual['Date'] = pd.to_datetime(df_actual['Date'])\n",
    "\n",
    "# Step 2: Rename columns to match forecast dataframe\n",
    "df_actual = df_actual.rename(columns={\n",
    "    'Store No'   : 'Store_No',\n",
    "    'Net Amount' : 'Net_Amount'\n",
    "})\n",
    "\n",
    "# Step 3: Match dtype for merging or plotting later (optional)\n",
    "df_actual['Store_No'] = df_actual['Store_No'].astype(df_all['Store_No'].dtype)\n",
    "\n",
    "# Step 4: Negate if necessary\n",
    "df_actual['Net_Amount'] = df_actual['Net_Amount'] * -1\n",
    "\n",
    "# Step 5: Sort by date\n",
    "df_actual = df_actual.sort_values(['Store_No', 'Date'])\n",
    "\n",
    "# Interactive figure:  \"True\"  (blue)  vs  \"Predicted\"  (orange)\n",
    "def make_fig(store_id):\n",
    "    act = df_actual.query(\"Store_No == @store_id\").copy()\n",
    "    fc  = df_all   .query(\"Store_No == @store_id\").copy()\n",
    "\n",
    "    fig = make_subplots(\n",
    "        rows=2, cols=1, shared_xaxes=True,\n",
    "        subplot_titles=(\"Net_Amount\", \"TC\"),\n",
    "        vertical_spacing=0.08\n",
    "    )\n",
    "\n",
    "    # -------- Net_Amount --------\n",
    "    # Predicted Net (orange) — leave as-is\n",
    "    fig.add_trace(\n",
    "        go.Scatter(\n",
    "            x=fc['Date'], y=fc['Net_Amount'],\n",
    "            mode='lines+markers',\n",
    "            name='Predicted Net',\n",
    "            line=dict(color='orange'),\n",
    "            legendgroup='pred',\n",
    "        ),\n",
    "        row=1, col=1\n",
    "    )\n",
    "    # True Net (now with markers)\n",
    "    fig.add_trace(\n",
    "        go.Scatter(\n",
    "            x=act['Date'], y=act['Net_Amount'],\n",
    "            mode='lines+markers',              # <<— add +markers\n",
    "            name='True Net',\n",
    "            line=dict(color='blue'),\n",
    "            marker=dict(color='blue'),         # ensure markers are blue\n",
    "            legendgroup='true',\n",
    "        ),\n",
    "        row=1, col=1\n",
    "    )\n",
    "\n",
    "    # -------- TC --------\n",
    "    # Predicted TC (orange) — leave as-is\n",
    "    fig.add_trace(\n",
    "        go.Scatter(\n",
    "            x=fc['Date'], y=fc['TC'],\n",
    "            mode='lines+markers',\n",
    "            name='Predicted TC',\n",
    "            line=dict(color='orange'),\n",
    "            legendgroup='pred',\n",
    "            showlegend=False,\n",
    "        ),\n",
    "        row=2, col=1\n",
    "    )\n",
    "    # True TC (now with markers)\n",
    "    fig.add_trace(\n",
    "        go.Scatter(\n",
    "            x=act['Date'], y=act['TC'],\n",
    "            mode='lines+markers',              # <<— add +markers\n",
    "            name='True TC',\n",
    "            line=dict(color='blue'),\n",
    "            marker=dict(color='blue'),\n",
    "            legendgroup='true',\n",
    "            showlegend=False,\n",
    "        ),\n",
    "        row=2, col=1\n",
    "    )\n",
    "\n",
    "        # ---- cosmetics ----\n",
    "    fig.update_layout(\n",
    "            height=600, width=900,\n",
    "            hovermode='x unified',\n",
    "            title=f\"Store {store_id}: True vs Predicted (21-Day Horizon)\",\n",
    "            legend_title_text=''          # cleaner legend\n",
    "        )\n",
    "    fig.update_xaxes(title_text=\"Date\", row=2, col=1)\n",
    "    fig.update_yaxes(title_text=\"RM\",           row=1, col=1)\n",
    "    fig.update_yaxes(title_text=\"Transactions\", row=2, col=1)\n",
    "\n",
    "    fig.show()\n",
    "\n",
    "# Widget \n",
    "store_widget = widgets.Dropdown(\n",
    "    options=sorted(df_all['Store_No'].unique()),\n",
    "    description='Select Store_No:',\n",
    "    style={'description_width': 'initial'}\n",
    ")\n",
    "out = widgets.interactive_output(make_fig, {'store_id': store_widget})\n",
    "display(store_widget, out)"
   ]
  },
  {
   "cell_type": "code",
   "execution_count": null,
   "id": "d28645e7",
   "metadata": {},
   "outputs": [
    {
     "name": "stdout",
     "output_type": "stream",
     "text": [
      "Global 95% CI half-widths:  Net=2276,  TC=147.0\n"
     ]
    },
    {
     "data": {
      "application/vnd.jupyter.widget-view+json": {
       "model_id": "34d077b9a55746c88b8d3a78ccbf950f",
       "version_major": 2,
       "version_minor": 0
      },
      "text/plain": [
       "Dropdown(description='Select Store_No:', options=(np.int64(1), np.int64(2), np.int64(4), np.int64(7), np.int64…"
      ]
     },
     "metadata": {},
     "output_type": "display_data"
    },
    {
     "data": {
      "application/vnd.jupyter.widget-view+json": {
       "model_id": "396bf5555bbb4373a7a2fe646a5dd425",
       "version_major": 2,
       "version_minor": 0
      },
      "text/plain": [
       "Output()"
      ]
     },
     "metadata": {},
     "output_type": "display_data"
    }
   ],
   "source": [
    "# ───────────────────────────────────────────────────────────────────────────────\n",
    "# 12. 11 but with 95% confidence interval\n",
    "# ───────────────────────────────────────────────────────────────────────────────\n",
    "import numpy as np\n",
    "\n",
    "# 1) Merge your actuals & predictions over the hold‐out so you can compute residuals\n",
    "df_merged = (\n",
    "    df_actual\n",
    "      .rename(columns={\"Net_Amount\":\"Net_Amount_act\",\"TC\":\"TC_act\"})\n",
    "      .merge(\n",
    "         df_all.rename(columns={\"Net_Amount\":\"Net_Amount_pred\",\"TC\":\"TC_pred\"}),\n",
    "         on=[\"Store_No\",\"Date\"],\n",
    "         how=\"inner\"\n",
    "      )\n",
    ")\n",
    "\n",
    "# 2) Compute residual std‐dev across all stores & days\n",
    "sigma_net = np.std(df_merged[\"Net_Amount_act\"] - df_merged[\"Net_Amount_pred\"], ddof=1)\n",
    "sigma_tc  = np.std(df_merged[\"TC_act\"]         - df_merged[\"TC_pred\"],        ddof=1)\n",
    "\n",
    "# 3) 95% half‐widths\n",
    "ci_half_net = 1.96 * sigma_net\n",
    "ci_half_tc  = 1.96 * sigma_tc\n",
    "\n",
    "print(f\"Global 95% CI half-widths:  Net={ci_half_net:.0f},  TC={ci_half_tc:.1f}\")\n",
    "\n",
    "\n",
    "# Interactive figure:  \"True\"  (blue)  vs  \"Predicted\"  (orange)\n",
    "import numpy as np   # add at top of your file\n",
    "\n",
    "def make_fig(store_id):\n",
    "    # just grab your preds & actuals for the display\n",
    "    act = df_actual.query(\"Store_No == @store_id\")\n",
    "    fc  = df_all   .query(\"Store_No == @store_id\")\n",
    "\n",
    "    fig = make_subplots(\n",
    "        rows=2, cols=1, shared_xaxes=True,\n",
    "        subplot_titles=(\"Net_Amount\", \"TC\"),\n",
    "        vertical_spacing=0.08\n",
    "    )\n",
    "\n",
    "    # --- Net_Amount with *constant* CI ---\n",
    "    fig.add_trace(\n",
    "        go.Scatter(\n",
    "            x=fc['Date'], y=fc['Net_Amount'],\n",
    "            mode='lines+markers',\n",
    "            name='Predicted Net',\n",
    "            line=dict(color='orange'),\n",
    "            error_y=dict(\n",
    "                type='data',\n",
    "                array=[ci_half_net]*len(fc),  # constant half-width\n",
    "                visible=True,\n",
    "                thickness=1.5,\n",
    "                width=4,\n",
    "            )\n",
    "        ),\n",
    "        row=1, col=1\n",
    "    )\n",
    "    fig.add_trace(\n",
    "        go.Scatter(\n",
    "            x=act['Date'], y=act['Net_Amount'],\n",
    "            mode='lines+markers',\n",
    "            name='True Net',\n",
    "            line=dict(color='blue'),\n",
    "            marker=dict(color='blue'),\n",
    "        ),\n",
    "        row=1, col=1\n",
    "    )\n",
    "\n",
    "    # --- TC with *constant* CI ---\n",
    "    fig.add_trace(\n",
    "        go.Scatter(\n",
    "            x=fc['Date'], y=fc['TC'],\n",
    "            mode='lines+markers',\n",
    "            name='Predicted TC',\n",
    "            line=dict(color='orange'),\n",
    "            showlegend=False,\n",
    "            error_y=dict(\n",
    "                type='data',\n",
    "                array=[ci_half_tc]*len(fc),\n",
    "                visible=True,\n",
    "                thickness=1.5,\n",
    "                width=4,\n",
    "            )\n",
    "        ),\n",
    "        row=2, col=1\n",
    "    )\n",
    "    fig.add_trace(\n",
    "        go.Scatter(\n",
    "            x=act['Date'], y=act['TC'],\n",
    "            mode='lines+markers',\n",
    "            name='True TC',\n",
    "            line=dict(color='blue'),\n",
    "            marker=dict(color='blue'),\n",
    "            showlegend=False,\n",
    "        ),\n",
    "        row=2, col=1\n",
    "    )\n",
    "\n",
    "    # layout tweaks\n",
    "    fig.update_layout(\n",
    "        height=600, width=900,\n",
    "        hovermode='x unified',\n",
    "        title=f\"Store {store_id}: True vs Predicted (21-Day Horizon)\",\n",
    "        legend_title_text=''\n",
    "    )\n",
    "    fig.update_xaxes(title_text=\"Date\", row=2, col=1)\n",
    "    fig.update_yaxes(title_text=\"RM\",           row=1, col=1)\n",
    "    fig.update_yaxes(title_text=\"Transactions\", row=2, col=1)\n",
    "\n",
    "    fig.show()\n",
    "\n",
    "# Widget – same as before\n",
    "store_widget = widgets.Dropdown(\n",
    "    options=sorted(df_all['Store_No'].unique()),\n",
    "    description='Select Store_No:',\n",
    "    style={'description_width': 'initial'}\n",
    ")\n",
    "out = widgets.interactive_output(make_fig, {'store_id': store_widget})\n",
    "display(store_widget, out)"
   ]
  }
 ],
 "metadata": {
  "kernelspec": {
   "display_name": "Python 3",
   "language": "python",
   "name": "python3"
  },
  "language_info": {
   "codemirror_mode": {
    "name": "ipython",
    "version": 3
   },
   "file_extension": ".py",
   "mimetype": "text/x-python",
   "name": "python",
   "nbconvert_exporter": "python",
   "pygments_lexer": "ipython3",
   "version": "3.11.0"
  }
 },
 "nbformat": 4,
 "nbformat_minor": 5
}
